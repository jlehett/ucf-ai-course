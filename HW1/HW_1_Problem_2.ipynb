{
  "nbformat": 4,
  "nbformat_minor": 0,
  "metadata": {
    "colab": {
      "name": "HW-1-Problem-2",
      "provenance": [],
      "collapsed_sections": []
    },
    "kernelspec": {
      "name": "python3",
      "display_name": "Python 3"
    }
  },
  "cells": [
    {
      "cell_type": "markdown",
      "metadata": {
        "colab_type": "text",
        "id": "rQw6JAf-6e4Q"
      },
      "source": [
        "### Imports"
      ]
    },
    {
      "cell_type": "code",
      "metadata": {
        "colab_type": "code",
        "id": "9B93_E3V6e4f",
        "colab": {}
      },
      "source": [
        "import numpy as np\n",
        "import matplotlib.pyplot as plt\n",
        "from mpl_toolkits.mplot3d import Axes3D\n",
        "from matplotlib import cm\n",
        "from matplotlib.ticker import LinearLocator, FormatStrFormatter"
      ],
      "execution_count": 0,
      "outputs": []
    },
    {
      "cell_type": "markdown",
      "metadata": {
        "id": "-aP8MzpqJgje",
        "colab_type": "text"
      },
      "source": [
        "# Problem 2"
      ]
    },
    {
      "cell_type": "markdown",
      "metadata": {
        "id": "QrMAFLTwK-mI",
        "colab_type": "text"
      },
      "source": [
        "### Create noisy data"
      ]
    },
    {
      "cell_type": "code",
      "metadata": {
        "id": "wzEP__X-LZaF",
        "colab_type": "code",
        "colab": {}
      },
      "source": [
        "w1 = 8.1\n",
        "w2 = 1.5\n",
        "b = 1.6\n",
        "\n",
        "def func(x, y):\n",
        "  return w1*x + w2*y + b\n",
        "\n",
        "x = np.random.rand(100) * 10 - 5 + np.random.rand(100) - 0.5\n",
        "y = np.random.rand(100) * 10 - 5 + np.random.rand(100) - 0.5\n",
        "z = func(x, y)"
      ],
      "execution_count": 0,
      "outputs": []
    },
    {
      "cell_type": "code",
      "metadata": {
        "id": "3b5szUntNVyB",
        "colab_type": "code",
        "colab": {}
      },
      "source": [
        "# split the data into training and test sets\n",
        "# train set\n",
        "train_xs = x[:80]\n",
        "train_ys = y[:80]\n",
        "train_zs = z[:80]\n",
        "# test set\n",
        "test_xs = x[80:]\n",
        "test_ys = y[80:]\n",
        "test_zs = z[80:]"
      ],
      "execution_count": 0,
      "outputs": []
    },
    {
      "cell_type": "markdown",
      "metadata": {
        "id": "n4bqNbcGNhwx",
        "colab_type": "text"
      },
      "source": [
        "## Linear Regression using numpy"
      ]
    },
    {
      "cell_type": "code",
      "metadata": {
        "id": "CtJA2XK-Nkjh",
        "colab_type": "code",
        "colab": {}
      },
      "source": [
        "# number of epochs\n",
        "epochs = 10\n",
        "# learning rate\n",
        "lr = 0.01"
      ],
      "execution_count": 0,
      "outputs": []
    },
    {
      "cell_type": "code",
      "metadata": {
        "id": "jl8HnOl4NqY_",
        "colab_type": "code",
        "colab": {}
      },
      "source": [
        "# initial value for weight w and bias b\n",
        "w1 = np.random.randn(1)\n",
        "w2 = np.random.randn(1)\n",
        "b = np.zeros(1)"
      ],
      "execution_count": 0,
      "outputs": []
    },
    {
      "cell_type": "code",
      "metadata": {
        "id": "cuOIg_lCNy9W",
        "colab_type": "code",
        "colab": {}
      },
      "source": [
        "# Training\n",
        "for epoch in np.arange(epochs):\n",
        "  for i in np.arange(80):\n",
        "    z_pred = w1 * train_xs[i] + w2 * train_ys[i] + b\n",
        "    \n",
        "    grad_w1 = (z_pred - train_zs[i]) * train_xs[i]\n",
        "    grad_w2 = (z_pred - train_zs[i]) * train_ys[i]\n",
        "    grad_b = (z_pred - train_zs[i])\n",
        "    \n",
        "    w1 -= lr * grad_w1\n",
        "    w2 -= lr * grad_w2\n",
        "    b -= lr * grad_b"
      ],
      "execution_count": 0,
      "outputs": []
    },
    {
      "cell_type": "markdown",
      "metadata": {
        "id": "D-nfeO7bqJMF",
        "colab_type": "text"
      },
      "source": [
        "### Final Test Loss"
      ]
    },
    {
      "cell_type": "code",
      "metadata": {
        "id": "vJ8xsPUSpoLP",
        "colab_type": "code",
        "outputId": "c28a8348-c4b2-4448-b85b-9c700cef48f5",
        "colab": {
          "base_uri": "https://localhost:8080/",
          "height": 36
        }
      },
      "source": [
        "test_loss = 0\n",
        "for i in np.arange(20):\n",
        "  test_loss += 0.5 * (w1 * test_xs[i] + w2 * test_ys[i] + b - test_zs[i]) ** 2\n",
        "test_loss /= 20\n",
        "\n",
        "print(test_loss)"
      ],
      "execution_count": 18,
      "outputs": [
        {
          "output_type": "stream",
          "text": [
            "[1.23432371e-07]\n"
          ],
          "name": "stdout"
        }
      ]
    },
    {
      "cell_type": "markdown",
      "metadata": {
        "id": "MbztanWGqN9T",
        "colab_type": "text"
      },
      "source": [
        "### Learned Weights/Biases vs. Real Weights/Biases"
      ]
    },
    {
      "cell_type": "code",
      "metadata": {
        "id": "0a7kmbtCqU3m",
        "colab_type": "code",
        "outputId": "72ebe48a-1dbb-4d9c-c2e0-8d17f8249385",
        "colab": {
          "base_uri": "https://localhost:8080/",
          "height": 56
        }
      },
      "source": [
        "print('Learned:', str(w1[0]), ',', str(w2[0]), ',', str(b[0]))\n",
        "print('Real: ', 8.1, ',', 1.5, ',', 1.6)"
      ],
      "execution_count": 19,
      "outputs": [
        {
          "output_type": "stream",
          "text": [
            "Learned: 8.100024512353832 , 1.5000573582315437 , 1.5995486956757932\n",
            "Real:  8.1 , 1.5 , 1.6\n"
          ],
          "name": "stdout"
        }
      ]
    },
    {
      "cell_type": "markdown",
      "metadata": {
        "id": "2mNFnYCUrXHH",
        "colab_type": "text"
      },
      "source": [
        ""
      ]
    }
  ]
}