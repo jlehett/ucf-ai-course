{
  "nbformat": 4,
  "nbformat_minor": 0,
  "metadata": {
    "colab": {
      "name": "HW-2-Problem-3",
      "provenance": [],
      "collapsed_sections": []
    },
    "kernelspec": {
      "name": "python3",
      "display_name": "Python 3"
    },
    "accelerator": "GPU"
  },
  "cells": [
    {
      "cell_type": "markdown",
      "metadata": {
        "id": "8FdimIYFlPHF",
        "colab_type": "text"
      },
      "source": [
        "### Handle Imports"
      ]
    },
    {
      "cell_type": "code",
      "metadata": {
        "id": "qU6mrj-xlRQq",
        "colab_type": "code",
        "colab": {}
      },
      "source": [
        "import keras\n",
        "import numpy as np\n",
        "import matplotlib.pyplot as plt"
      ],
      "execution_count": 0,
      "outputs": []
    },
    {
      "cell_type": "markdown",
      "metadata": {
        "id": "Q1oCcxlwlJ_F",
        "colab_type": "text"
      },
      "source": [
        "## Load the CIFAR10 data set"
      ]
    },
    {
      "cell_type": "code",
      "metadata": {
        "id": "x2gcvhy2lNtN",
        "colab_type": "code",
        "colab": {}
      },
      "source": [
        "from keras.datasets import cifar10\n",
        "\n",
        "(train_images, train_labels), (test_images, test_labels) = cifar10.load_data()\n",
        "train_images = train_images.astype('float32') / 255.0\n",
        "test_images = test_images.astype('float32') / 255.0"
      ],
      "execution_count": 0,
      "outputs": []
    },
    {
      "cell_type": "code",
      "metadata": {
        "id": "gkR6BhfwlrIt",
        "colab_type": "code",
        "colab": {}
      },
      "source": [
        "# One-Hot Encode labels\n",
        "train_labels = keras.utils.to_categorical(train_labels)\n",
        "test_labels = keras.utils.to_categorical(test_labels)\n",
        "\n",
        "class_names = ['airplane', 'automobile', 'bird', 'cat', 'deer', 'dog', 'frog', 'horse', 'ship', 'truck']"
      ],
      "execution_count": 0,
      "outputs": []
    },
    {
      "cell_type": "markdown",
      "metadata": {
        "id": "LrYcgcxInlgz",
        "colab_type": "text"
      },
      "source": [
        "## Underfitting Model"
      ]
    },
    {
      "cell_type": "markdown",
      "metadata": {
        "id": "O60CCswXnuq4",
        "colab_type": "text"
      },
      "source": [
        "### Build CNN"
      ]
    },
    {
      "cell_type": "markdown",
      "metadata": {
        "id": "PD22mkkjbJQX",
        "colab_type": "text"
      },
      "source": [
        "Note: This model's architecture is greatly exaggerated to produce a very simplistic model that underfits the data."
      ]
    },
    {
      "cell_type": "code",
      "metadata": {
        "id": "9YwQr6RDnwuD",
        "colab_type": "code",
        "outputId": "2fef8e26-8445-437d-ce06-a53769944378",
        "colab": {
          "base_uri": "https://localhost:8080/",
          "height": 714
        }
      },
      "source": [
        "# Set up the layers\n",
        "model = keras.models.Sequential()\n",
        "model.add(keras.layers.Conv2D(32, kernel_size=(3, 3), input_shape=(32, 32, 3)))\n",
        "model.add(keras.layers.MaxPool2D(pool_size=(2, 2)))\n",
        "model.add(keras.layers.Flatten())\n",
        "model.add(keras.layers.Dropout(0.5))\n",
        "model.add(keras.layers.Dense(32, activation='relu'))\n",
        "model.add(keras.layers.Dense(10, activation='softmax'))\n",
        "\n",
        "# Compile the model\n",
        "model.compile(optimizer='adam',\n",
        "             loss='categorical_crossentropy',\n",
        "             metrics=['accuracy'])\n",
        "\n",
        "# Train the model\n",
        "epochs = 20\n",
        "history = model.fit(train_images, train_labels, epochs=epochs, validation_data=(test_images, test_labels), batch_size=512)"
      ],
      "execution_count": 0,
      "outputs": [
        {
          "output_type": "stream",
          "text": [
            "Train on 50000 samples, validate on 10000 samples\n",
            "Epoch 1/20\n",
            "50000/50000 [==============================] - 4s 86us/step - loss: 1.9585 - acc: 0.2939 - val_loss: 1.7444 - val_acc: 0.3892\n",
            "Epoch 2/20\n",
            "50000/50000 [==============================] - 1s 26us/step - loss: 1.6737 - acc: 0.4149 - val_loss: 1.6004 - val_acc: 0.4418\n",
            "Epoch 3/20\n",
            "50000/50000 [==============================] - 1s 26us/step - loss: 1.5767 - acc: 0.4510 - val_loss: 1.5340 - val_acc: 0.4649\n",
            "Epoch 4/20\n",
            "50000/50000 [==============================] - 1s 26us/step - loss: 1.5036 - acc: 0.4758 - val_loss: 1.4552 - val_acc: 0.4929\n",
            "Epoch 5/20\n",
            "50000/50000 [==============================] - 1s 25us/step - loss: 1.4139 - acc: 0.5043 - val_loss: 1.3883 - val_acc: 0.5165\n",
            "Epoch 6/20\n",
            "50000/50000 [==============================] - 1s 27us/step - loss: 1.3535 - acc: 0.5239 - val_loss: 1.3195 - val_acc: 0.5366\n",
            "Epoch 7/20\n",
            "50000/50000 [==============================] - 1s 26us/step - loss: 1.3001 - acc: 0.5434 - val_loss: 1.3069 - val_acc: 0.5394\n",
            "Epoch 8/20\n",
            "50000/50000 [==============================] - 1s 26us/step - loss: 1.2625 - acc: 0.5550 - val_loss: 1.2594 - val_acc: 0.5598\n",
            "Epoch 9/20\n",
            "50000/50000 [==============================] - 1s 26us/step - loss: 1.2246 - acc: 0.5710 - val_loss: 1.2504 - val_acc: 0.5622\n",
            "Epoch 10/20\n",
            "50000/50000 [==============================] - 1s 26us/step - loss: 1.1981 - acc: 0.5806 - val_loss: 1.2197 - val_acc: 0.5710\n",
            "Epoch 11/20\n",
            "50000/50000 [==============================] - 1s 26us/step - loss: 1.1710 - acc: 0.5890 - val_loss: 1.2056 - val_acc: 0.5775\n",
            "Epoch 12/20\n",
            "50000/50000 [==============================] - 1s 26us/step - loss: 1.1533 - acc: 0.5950 - val_loss: 1.1868 - val_acc: 0.5838\n",
            "Epoch 13/20\n",
            "50000/50000 [==============================] - 1s 26us/step - loss: 1.1346 - acc: 0.6035 - val_loss: 1.1833 - val_acc: 0.5851\n",
            "Epoch 14/20\n",
            "50000/50000 [==============================] - 1s 26us/step - loss: 1.1099 - acc: 0.6135 - val_loss: 1.1630 - val_acc: 0.5942\n",
            "Epoch 15/20\n",
            "50000/50000 [==============================] - 1s 26us/step - loss: 1.0936 - acc: 0.6165 - val_loss: 1.1747 - val_acc: 0.5894\n",
            "Epoch 16/20\n",
            "50000/50000 [==============================] - 1s 25us/step - loss: 1.0803 - acc: 0.6226 - val_loss: 1.1424 - val_acc: 0.6042\n",
            "Epoch 17/20\n",
            "50000/50000 [==============================] - 1s 25us/step - loss: 1.0624 - acc: 0.6305 - val_loss: 1.1670 - val_acc: 0.5943\n",
            "Epoch 18/20\n",
            "50000/50000 [==============================] - 1s 26us/step - loss: 1.0504 - acc: 0.6324 - val_loss: 1.1194 - val_acc: 0.6084\n",
            "Epoch 19/20\n",
            "50000/50000 [==============================] - 1s 25us/step - loss: 1.0338 - acc: 0.6398 - val_loss: 1.1196 - val_acc: 0.6128\n",
            "Epoch 20/20\n",
            "50000/50000 [==============================] - 1s 25us/step - loss: 1.0257 - acc: 0.6411 - val_loss: 1.1296 - val_acc: 0.6062\n"
          ],
          "name": "stdout"
        }
      ]
    },
    {
      "cell_type": "markdown",
      "metadata": {
        "id": "DRl_GjWbodM5",
        "colab_type": "text"
      },
      "source": [
        "### Evaluate Accuracy"
      ]
    },
    {
      "cell_type": "code",
      "metadata": {
        "id": "TsDqjiMvosAj",
        "colab_type": "code",
        "outputId": "64329020-0af8-400f-a2a7-cb39b80df3e0",
        "colab": {
          "base_uri": "https://localhost:8080/",
          "height": 51
        }
      },
      "source": [
        "test_loss, test_acc = model.evaluate(test_images, test_labels)\n",
        "\n",
        "print('Test accuracy:', test_acc)"
      ],
      "execution_count": 0,
      "outputs": [
        {
          "output_type": "stream",
          "text": [
            "10000/10000 [==============================] - 1s 70us/step\n",
            "Test accuracy: 0.6062\n"
          ],
          "name": "stdout"
        }
      ]
    },
    {
      "cell_type": "markdown",
      "metadata": {
        "id": "WAL57wlZo3rL",
        "colab_type": "text"
      },
      "source": [
        "### Training/test loss/accuracy during training"
      ]
    },
    {
      "cell_type": "code",
      "metadata": {
        "id": "BkBZ2DxAo1Wb",
        "colab_type": "code",
        "colab": {}
      },
      "source": [
        "history_dict = history.history\n",
        "loss_values = history_dict['loss']\n",
        "test_loss_values = history_dict['val_loss']\n",
        "epochs_range = range(1, epochs+1)"
      ],
      "execution_count": 0,
      "outputs": []
    },
    {
      "cell_type": "code",
      "metadata": {
        "id": "IBiphxmco8Sj",
        "colab_type": "code",
        "outputId": "b13a1342-2d16-4b16-a508-eeeee57fcaf1",
        "colab": {
          "base_uri": "https://localhost:8080/",
          "height": 295
        }
      },
      "source": [
        "plt.plot(epochs_range, loss_values, 'bo', label='Training loss')\n",
        "plt.plot(epochs_range, test_loss_values, 'ro', label='Test loss')\n",
        "plt.title('Training and test loss')\n",
        "plt.xlabel('Epochs')\n",
        "plt.ylabel('Loss')\n",
        "plt.legend()\n",
        "plt.show()"
      ],
      "execution_count": 0,
      "outputs": [
        {
          "output_type": "display_data",
          "data": {
            "image/png": "[encoded data removed]",
            "text/plain": [
              "<Figure size 432x288 with 1 Axes>"
            ]
          },
          "metadata": {
            "tags": []
          }
        }
      ]
    },
    {
      "cell_type": "code",
      "metadata": {
        "id": "i4ns559xo9oD",
        "colab_type": "code",
        "colab": {}
      },
      "source": [
        "acc_values = history_dict['acc']\n",
        "test_acc_values = history_dict['val_acc']"
      ],
      "execution_count": 0,
      "outputs": []
    },
    {
      "cell_type": "code",
      "metadata": {
        "id": "gSmBpBlso-gi",
        "colab_type": "code",
        "outputId": "14fc207b-17b2-42e5-8b5e-3a31a7cc7be5",
        "colab": {
          "base_uri": "https://localhost:8080/",
          "height": 295
        }
      },
      "source": [
        "plt.plot(epochs_range, acc_values, 'bo', label='Training accuracy')\n",
        "plt.plot(epochs_range, test_acc_values, 'ro', label='Test accuracy')\n",
        "plt.title('Training and test accuracy')\n",
        "plt.xlabel('Epochs')\n",
        "plt.ylabel('Accuracy')\n",
        "plt.legend()\n",
        "plt.show()"
      ],
      "execution_count": 0,
      "outputs": [
        {
          "output_type": "display_data",
          "data": {
            "image/png": "[encoded data removed]",
            "text/plain": [
              "<Figure size 432x288 with 1 Axes>"
            ]
          },
          "metadata": {
            "tags": []
          }
        }
      ]
    },
    {
      "cell_type": "markdown",
      "metadata": {
        "id": "XvXlOPjkbdF9",
        "colab_type": "text"
      },
      "source": [
        "As seen above, the model greatly underperforms on the testing and training data. This shows the model is underfitting."
      ]
    },
    {
      "cell_type": "markdown",
      "metadata": {
        "colab_type": "text",
        "id": "U9hes7UiNWEi"
      },
      "source": [
        "## Overfitting Model"
      ]
    },
    {
      "cell_type": "markdown",
      "metadata": {
        "colab_type": "text",
        "id": "rf2ZyD73NWEk"
      },
      "source": [
        "### Build CNN"
      ]
    },
    {
      "cell_type": "code",
      "metadata": {
        "colab_type": "code",
        "id": "6uMf2LqUNWEk",
        "outputId": "d24b5cf0-49df-4d50-f71a-46a2d85e3ea5",
        "colab": {
          "base_uri": "https://localhost:8080/",
          "height": 714
        }
      },
      "source": [
        "from keras.layers import Conv2D, Activation, MaxPooling2D, Dropout, Dense, Flatten\n",
        "from keras.models import Sequential\n",
        "\n",
        "model = Sequential()\n",
        "model.add(Conv2D(128, (3, 3), padding='same',\n",
        "                 input_shape=(32, 32, 3)))\n",
        "model.add(Activation('relu'))\n",
        "model.add(Conv2D(128, (3, 3)))\n",
        "model.add(Activation('relu'))\n",
        "model.add(MaxPooling2D(pool_size=(2, 2)))\n",
        "model.add(Dropout(0.25))\n",
        "\n",
        "model.add(Flatten())\n",
        "model.add(Dense(1024))\n",
        "model.add(Activation('relu'))\n",
        "model.add(Dense(10))\n",
        "model.add(Activation('softmax'))\n",
        "\n",
        "# Let's train the model using RMSprop\n",
        "model.compile(loss='categorical_crossentropy',\n",
        "              optimizer='adam',\n",
        "              metrics=['accuracy'])\n",
        "\n",
        "\n",
        "history = model.fit(train_images, train_labels, \n",
        "          batch_size=512, epochs=epochs, \n",
        "          validation_split=0.2)"
      ],
      "execution_count": 0,
      "outputs": [
        {
          "output_type": "stream",
          "text": [
            "Train on 40000 samples, validate on 10000 samples\n",
            "Epoch 1/20\n",
            "40000/40000 [==============================] - 9s 237us/step - loss: 1.7295 - acc: 0.3960 - val_loss: 1.3582 - val_acc: 0.5145\n",
            "Epoch 2/20\n",
            "40000/40000 [==============================] - 6s 151us/step - loss: 1.2293 - acc: 0.5652 - val_loss: 1.4258 - val_acc: 0.5181\n",
            "Epoch 3/20\n",
            "40000/40000 [==============================] - 6s 151us/step - loss: 1.0585 - acc: 0.6277 - val_loss: 1.0639 - val_acc: 0.6287\n",
            "Epoch 4/20\n",
            "40000/40000 [==============================] - 6s 151us/step - loss: 0.9333 - acc: 0.6743 - val_loss: 0.9741 - val_acc: 0.6639\n",
            "Epoch 5/20\n",
            "40000/40000 [==============================] - 6s 152us/step - loss: 0.8379 - acc: 0.7065 - val_loss: 0.9410 - val_acc: 0.6726\n",
            "Epoch 6/20\n",
            "40000/40000 [==============================] - 6s 151us/step - loss: 0.7429 - acc: 0.7394 - val_loss: 0.9131 - val_acc: 0.6915\n",
            "Epoch 7/20\n",
            "40000/40000 [==============================] - 6s 151us/step - loss: 0.6482 - acc: 0.7768 - val_loss: 0.9107 - val_acc: 0.6927\n",
            "Epoch 8/20\n",
            "40000/40000 [==============================] - 6s 151us/step - loss: 0.5535 - acc: 0.8093 - val_loss: 0.9254 - val_acc: 0.6868\n",
            "Epoch 9/20\n",
            "40000/40000 [==============================] - 6s 152us/step - loss: 0.4616 - acc: 0.8417 - val_loss: 0.9329 - val_acc: 0.6970\n",
            "Epoch 10/20\n",
            "40000/40000 [==============================] - 6s 151us/step - loss: 0.3606 - acc: 0.8780 - val_loss: 1.0175 - val_acc: 0.6874\n",
            "Epoch 11/20\n",
            "40000/40000 [==============================] - 6s 151us/step - loss: 0.2854 - acc: 0.9041 - val_loss: 0.9797 - val_acc: 0.7120\n",
            "Epoch 12/20\n",
            "40000/40000 [==============================] - 6s 151us/step - loss: 0.2056 - acc: 0.9339 - val_loss: 1.0809 - val_acc: 0.7072\n",
            "Epoch 13/20\n",
            "40000/40000 [==============================] - 6s 152us/step - loss: 0.1671 - acc: 0.9476 - val_loss: 1.1066 - val_acc: 0.7094\n",
            "Epoch 14/20\n",
            "40000/40000 [==============================] - 6s 152us/step - loss: 0.1217 - acc: 0.9628 - val_loss: 1.1735 - val_acc: 0.7017\n",
            "Epoch 15/20\n",
            "40000/40000 [==============================] - 6s 151us/step - loss: 0.1023 - acc: 0.9686 - val_loss: 1.2328 - val_acc: 0.6999\n",
            "Epoch 16/20\n",
            "40000/40000 [==============================] - 6s 155us/step - loss: 0.0740 - acc: 0.9783 - val_loss: 1.2598 - val_acc: 0.7139\n",
            "Epoch 17/20\n",
            "40000/40000 [==============================] - 6s 152us/step - loss: 0.0603 - acc: 0.9828 - val_loss: 1.3280 - val_acc: 0.7081\n",
            "Epoch 18/20\n",
            "40000/40000 [==============================] - 6s 151us/step - loss: 0.0495 - acc: 0.9857 - val_loss: 1.3627 - val_acc: 0.7126\n",
            "Epoch 19/20\n",
            "40000/40000 [==============================] - 6s 151us/step - loss: 0.0412 - acc: 0.9886 - val_loss: 1.4072 - val_acc: 0.7108\n",
            "Epoch 20/20\n",
            "40000/40000 [==============================] - 6s 151us/step - loss: 0.0403 - acc: 0.9884 - val_loss: 1.4145 - val_acc: 0.7114\n"
          ],
          "name": "stdout"
        }
      ]
    },
    {
      "cell_type": "markdown",
      "metadata": {
        "colab_type": "text",
        "id": "XPVD3TwwNWEm"
      },
      "source": [
        "### Evaluate Accuracy"
      ]
    },
    {
      "cell_type": "code",
      "metadata": {
        "colab_type": "code",
        "id": "LrT5avhYNWEm",
        "outputId": "03cc29e2-b8df-4604-e581-bd242f2ce8de",
        "colab": {
          "base_uri": "https://localhost:8080/",
          "height": 51
        }
      },
      "source": [
        "test_loss, test_acc = model.evaluate(test_images, test_labels)\n",
        "\n",
        "print('Test accuracy:', test_acc)"
      ],
      "execution_count": 0,
      "outputs": [
        {
          "output_type": "stream",
          "text": [
            "10000/10000 [==============================] - 1s 110us/step\n",
            "Test accuracy: 0.703\n"
          ],
          "name": "stdout"
        }
      ]
    },
    {
      "cell_type": "markdown",
      "metadata": {
        "colab_type": "text",
        "id": "P98-IxEvNWEo"
      },
      "source": [
        "### Training/test loss/accuracy during training"
      ]
    },
    {
      "cell_type": "code",
      "metadata": {
        "colab_type": "code",
        "id": "GbwyJfbuNWEo",
        "colab": {}
      },
      "source": [
        "history_dict = history.history\n",
        "loss_values = history_dict['loss']\n",
        "test_loss_values = history_dict['val_loss']\n",
        "epochs_range = range(1, epochs+1)"
      ],
      "execution_count": 0,
      "outputs": []
    },
    {
      "cell_type": "code",
      "metadata": {
        "colab_type": "code",
        "id": "dn2imN2rNWEp",
        "outputId": "213ef3a8-4c23-485a-f039-49555837b0b9",
        "colab": {
          "base_uri": "https://localhost:8080/",
          "height": 295
        }
      },
      "source": [
        "plt.plot(epochs_range, loss_values, 'bo', label='Training loss')\n",
        "plt.plot(epochs_range, test_loss_values, 'ro', label='Test loss')\n",
        "plt.title('Training and test loss')\n",
        "plt.xlabel('Epochs')\n",
        "plt.ylabel('Loss')\n",
        "plt.legend()\n",
        "plt.show()"
      ],
      "execution_count": 0,
      "outputs": [
        {
          "output_type": "display_data",
          "data": {
            "image/png": "[encoded data removed]",
            "text/plain": [
              "<Figure size 432x288 with 1 Axes>"
            ]
          },
          "metadata": {
            "tags": []
          }
        }
      ]
    },
    {
      "cell_type": "code",
      "metadata": {
        "colab_type": "code",
        "id": "IsKzhkLbNWEr",
        "colab": {}
      },
      "source": [
        "acc_values = history_dict['acc']\n",
        "test_acc_values = history_dict['val_acc']"
      ],
      "execution_count": 0,
      "outputs": []
    },
    {
      "cell_type": "code",
      "metadata": {
        "colab_type": "code",
        "id": "15WHScGwNWEs",
        "outputId": "df70d235-fcf4-4eab-b38f-6e0f2f4b1265",
        "colab": {
          "base_uri": "https://localhost:8080/",
          "height": 295
        }
      },
      "source": [
        "plt.plot(epochs_range, acc_values, 'bo', label='Training accuracy')\n",
        "plt.plot(epochs_range, test_acc_values, 'ro', label='Test accuracy')\n",
        "plt.title('Training and test accuracy')\n",
        "plt.xlabel('Epochs')\n",
        "plt.ylabel('Accuracy')\n",
        "plt.legend()\n",
        "plt.show()"
      ],
      "execution_count": 0,
      "outputs": [
        {
          "output_type": "display_data",
          "data": {
            "image/png": "[encoded data removed]",
            "text/plain": [
              "<Figure size 432x288 with 1 Axes>"
            ]
          },
          "metadata": {
            "tags": []
          }
        }
      ]
    },
    {
      "cell_type": "markdown",
      "metadata": {
        "id": "h_rAXV33_oAs",
        "colab_type": "text"
      },
      "source": [
        "As seen by the massive gap between testing and training accuracy, the model is severely overfitting to the training data. Part of this is due to a lack of any Dropout layers in the model."
      ]
    },
    {
      "cell_type": "markdown",
      "metadata": {
        "colab_type": "text",
        "id": "hVM2Hs4htEb8"
      },
      "source": [
        "## Decent Model"
      ]
    },
    {
      "cell_type": "markdown",
      "metadata": {
        "colab_type": "text",
        "id": "GkxTND74tEb_"
      },
      "source": [
        "### Build CNN"
      ]
    },
    {
      "cell_type": "code",
      "metadata": {
        "colab_type": "code",
        "id": "0w0x7DcWtEcA",
        "outputId": "bec5f2b8-e595-4d8b-e2f3-4ff70cd6111d",
        "colab": {
          "base_uri": "https://localhost:8080/",
          "height": 714
        }
      },
      "source": [
        "from keras.layers import Conv2D, Activation, MaxPooling2D, Dropout, Dense, Flatten\n",
        "from keras.models import Sequential\n",
        "\n",
        "model = Sequential()\n",
        "model.add(Conv2D(128, (3, 3), padding='same',\n",
        "                 input_shape=(32, 32, 3)))\n",
        "model.add(Activation('relu'))\n",
        "model.add(Conv2D(256, (3, 3)))\n",
        "model.add(Activation('relu'))\n",
        "model.add(MaxPooling2D(pool_size=(2, 2)))\n",
        "model.add(Dropout(0.25))\n",
        "\n",
        "model.add(Conv2D(256, (3, 3), padding='same'))\n",
        "model.add(Activation('relu'))\n",
        "model.add(Conv2D(512, (3, 3)))\n",
        "model.add(Activation('relu'))\n",
        "model.add(MaxPooling2D(pool_size=(2, 2)))\n",
        "model.add(Dropout(0.5))\n",
        "\n",
        "model.add(Conv2D(512, (3, 3), padding='same'))\n",
        "model.add(Activation('relu'))\n",
        "model.add(Conv2D(512, (3, 3)))\n",
        "model.add(Activation('relu'))\n",
        "model.add(MaxPooling2D(pool_size=(2, 2)))\n",
        "model.add(Dropout(0.5))\n",
        "\n",
        "model.add(Flatten())\n",
        "model.add(Dense(512))\n",
        "model.add(Activation('relu'))\n",
        "model.add(Dropout(0.5))\n",
        "model.add(Dense(10))\n",
        "model.add(Activation('softmax'))\n",
        "\n",
        "# Let's train the model using RMSprop\n",
        "model.compile(loss='categorical_crossentropy',\n",
        "              optimizer='adam',\n",
        "              metrics=['accuracy'])\n",
        "\n",
        "\n",
        "history = model.fit(train_images, train_labels, \n",
        "          batch_size=512, epochs=20, \n",
        "          validation_split=0.2)"
      ],
      "execution_count": 0,
      "outputs": [
        {
          "output_type": "stream",
          "text": [
            "Train on 40000 samples, validate on 10000 samples\n",
            "Epoch 1/20\n",
            "40000/40000 [==============================] - 20s 499us/step - loss: 2.2892 - acc: 0.1179 - val_loss: 2.1668 - val_acc: 0.1770\n",
            "Epoch 2/20\n",
            "40000/40000 [==============================] - 15s 383us/step - loss: 1.9342 - acc: 0.2562 - val_loss: 1.7420 - val_acc: 0.3470\n",
            "Epoch 3/20\n",
            "40000/40000 [==============================] - 15s 383us/step - loss: 1.5975 - acc: 0.4102 - val_loss: 1.3897 - val_acc: 0.4909\n",
            "Epoch 4/20\n",
            "40000/40000 [==============================] - 15s 383us/step - loss: 1.3342 - acc: 0.5166 - val_loss: 1.1510 - val_acc: 0.5826\n",
            "Epoch 5/20\n",
            "40000/40000 [==============================] - 15s 383us/step - loss: 1.1395 - acc: 0.5918 - val_loss: 1.0339 - val_acc: 0.6374\n",
            "Epoch 6/20\n",
            "40000/40000 [==============================] - 15s 383us/step - loss: 1.0237 - acc: 0.6349 - val_loss: 1.0110 - val_acc: 0.6508\n",
            "Epoch 7/20\n",
            "40000/40000 [==============================] - 15s 382us/step - loss: 0.9060 - acc: 0.6800 - val_loss: 0.9257 - val_acc: 0.6706\n",
            "Epoch 8/20\n",
            "40000/40000 [==============================] - 15s 382us/step - loss: 0.8292 - acc: 0.7098 - val_loss: 0.7284 - val_acc: 0.7430\n",
            "Epoch 9/20\n",
            "40000/40000 [==============================] - 15s 383us/step - loss: 0.7473 - acc: 0.7405 - val_loss: 0.6903 - val_acc: 0.7590\n",
            "Epoch 10/20\n",
            "40000/40000 [==============================] - 15s 383us/step - loss: 0.6734 - acc: 0.7627 - val_loss: 0.7100 - val_acc: 0.7525\n",
            "Epoch 11/20\n",
            "40000/40000 [==============================] - 15s 382us/step - loss: 0.6250 - acc: 0.7832 - val_loss: 0.6292 - val_acc: 0.7818\n",
            "Epoch 12/20\n",
            "40000/40000 [==============================] - 15s 383us/step - loss: 0.5811 - acc: 0.7962 - val_loss: 0.6620 - val_acc: 0.7729\n",
            "Epoch 13/20\n",
            "40000/40000 [==============================] - 15s 382us/step - loss: 0.5555 - acc: 0.8067 - val_loss: 0.5885 - val_acc: 0.7964\n",
            "Epoch 14/20\n",
            "40000/40000 [==============================] - 15s 383us/step - loss: 0.4974 - acc: 0.8257 - val_loss: 0.5813 - val_acc: 0.8037\n",
            "Epoch 15/20\n",
            "40000/40000 [==============================] - 15s 382us/step - loss: 0.4833 - acc: 0.8333 - val_loss: 0.5779 - val_acc: 0.8064\n",
            "Epoch 16/20\n",
            "40000/40000 [==============================] - 15s 383us/step - loss: 0.4435 - acc: 0.8443 - val_loss: 0.5387 - val_acc: 0.8218\n",
            "Epoch 17/20\n",
            "40000/40000 [==============================] - 15s 383us/step - loss: 0.4203 - acc: 0.8537 - val_loss: 0.6075 - val_acc: 0.7970\n",
            "Epoch 18/20\n",
            "40000/40000 [==============================] - 15s 383us/step - loss: 0.4023 - acc: 0.8595 - val_loss: 0.5401 - val_acc: 0.8239\n",
            "Epoch 19/20\n",
            "40000/40000 [==============================] - 15s 382us/step - loss: 0.3686 - acc: 0.8710 - val_loss: 0.6378 - val_acc: 0.7990\n",
            "Epoch 20/20\n",
            "40000/40000 [==============================] - 15s 383us/step - loss: 0.3795 - acc: 0.8679 - val_loss: 0.5481 - val_acc: 0.8289\n"
          ],
          "name": "stdout"
        }
      ]
    },
    {
      "cell_type": "markdown",
      "metadata": {
        "colab_type": "text",
        "id": "X3HUnm0htEcE"
      },
      "source": [
        "### Evaluate Accuracy"
      ]
    },
    {
      "cell_type": "code",
      "metadata": {
        "colab_type": "code",
        "id": "snoWBSKMtEcF",
        "outputId": "2e06d56b-c813-4dee-81c3-b6c83c743e6c",
        "colab": {
          "base_uri": "https://localhost:8080/",
          "height": 51
        }
      },
      "source": [
        "test_loss, test_acc = model.evaluate(test_images, test_labels)\n",
        "\n",
        "print('Test accuracy:', test_acc)"
      ],
      "execution_count": 0,
      "outputs": [
        {
          "output_type": "stream",
          "text": [
            "10000/10000 [==============================] - 2s 222us/step\n",
            "Test accuracy: 0.8233\n"
          ],
          "name": "stdout"
        }
      ]
    },
    {
      "cell_type": "markdown",
      "metadata": {
        "colab_type": "text",
        "id": "iGmzUeeutEcH"
      },
      "source": [
        "### Training/test loss/accuracy during training"
      ]
    },
    {
      "cell_type": "code",
      "metadata": {
        "colab_type": "code",
        "id": "D921aylZtEcI",
        "colab": {}
      },
      "source": [
        "history_dict = history.history\n",
        "loss_values = history_dict['loss']\n",
        "test_loss_values = history_dict['val_loss']\n",
        "epochs_range = range(1, 20+1)"
      ],
      "execution_count": 0,
      "outputs": []
    },
    {
      "cell_type": "code",
      "metadata": {
        "colab_type": "code",
        "id": "4Y5DFSZttEcJ",
        "outputId": "18fdd038-f1f6-4275-b1f9-a487a568747c",
        "colab": {
          "base_uri": "https://localhost:8080/",
          "height": 295
        }
      },
      "source": [
        "plt.plot(epochs_range, loss_values, 'bo', label='Training loss')\n",
        "plt.plot(epochs_range, test_loss_values, 'ro', label='Test loss')\n",
        "plt.title('Training and test loss')\n",
        "plt.xlabel('Epochs')\n",
        "plt.ylabel('Loss')\n",
        "plt.legend()\n",
        "plt.show()"
      ],
      "execution_count": 0,
      "outputs": [
        {
          "output_type": "display_data",
          "data": {
            "image/png": "[encoded data removed]",
            "text/plain": [
              "<Figure size 432x288 with 1 Axes>"
            ]
          },
          "metadata": {
            "tags": []
          }
        }
      ]
    },
    {
      "cell_type": "code",
      "metadata": {
        "colab_type": "code",
        "id": "SbiFyoq0tEcL",
        "colab": {}
      },
      "source": [
        "acc_values = history_dict['acc']\n",
        "test_acc_values = history_dict['val_acc']"
      ],
      "execution_count": 0,
      "outputs": []
    },
    {
      "cell_type": "code",
      "metadata": {
        "colab_type": "code",
        "id": "FVlOmWwCtEcN",
        "outputId": "02bed0b9-b08b-4b07-f53a-88d2100a1b06",
        "colab": {
          "base_uri": "https://localhost:8080/",
          "height": 295
        }
      },
      "source": [
        "plt.plot(epochs_range, acc_values, 'bo', label='Training accuracy')\n",
        "plt.plot(epochs_range, test_acc_values, 'ro', label='Test accuracy')\n",
        "plt.title('Training and test accuracy')\n",
        "plt.xlabel('Epochs')\n",
        "plt.ylabel('Accuracy')\n",
        "plt.legend()\n",
        "plt.show()"
      ],
      "execution_count": 0,
      "outputs": [
        {
          "output_type": "display_data",
          "data": {
            "image/png": "[encoded data removed]",
            "text/plain": [
              "<Figure size 432x288 with 1 Axes>"
            ]
          },
          "metadata": {
            "tags": []
          }
        }
      ]
    },
    {
      "cell_type": "markdown",
      "metadata": {
        "id": "7kkoaEqEI-m5",
        "colab_type": "text"
      },
      "source": [
        "This model has a very small gap between the training and testing scores. This indicates that the model is not overfitting.\n",
        "\n",
        "The addition of more Dropout layers has helped fight overfitting. More hidden layers and convolutional layers has also increased the accuracy of the model as a whole.\n",
        "\n",
        "The testing score has also seen roughly a 12% improvement over the overfitting model. It is also roughly a 22% improvement over the underfitting model. It could still potentially be improved with more hidden layers (as long as they are balanced by Dropout layers) or by training for more epochs."
      ]
    }
  ]
}