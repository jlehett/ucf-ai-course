{
  "nbformat": 4,
  "nbformat_minor": 0,
  "metadata": {
    "colab": {
      "name": "HW-2-Problem-1",
      "provenance": [],
      "collapsed_sections": []
    },
    "kernelspec": {
      "name": "python3",
      "display_name": "Python 3"
    }
  },
  "cells": [
    {
      "cell_type": "markdown",
      "metadata": {
        "id": "uldR7YkBEAcQ",
        "colab_type": "text"
      },
      "source": [
        "# Problem 1"
      ]
    },
    {
      "cell_type": "markdown",
      "metadata": {
        "id": "MAZpZaGJEROX",
        "colab_type": "text"
      },
      "source": [
        "### Handle imports"
      ]
    },
    {
      "cell_type": "code",
      "metadata": {
        "id": "373KFL9VEbYK",
        "colab_type": "code",
        "colab": {}
      },
      "source": [
        "import numpy as np\n",
        "import matplotlib.pyplot as plt\n",
        "import keras\n",
        "import cv2\n",
        "from google.colab.patches import cv2_imshow\n",
        "import skimage\n",
        "import sklearn"
      ],
      "execution_count": 0,
      "outputs": []
    },
    {
      "cell_type": "markdown",
      "metadata": {
        "id": "rYOjYFXNELnW",
        "colab_type": "text"
      },
      "source": [
        "### Load MNIST Dataset"
      ]
    },
    {
      "cell_type": "code",
      "metadata": {
        "id": "g6BRK6P6E_L8",
        "colab_type": "code",
        "colab": {}
      },
      "source": [
        "import tensorflow as tf\n",
        "\n",
        "(x_train, y_train), (x_test, y_test) = tf.keras.datasets.mnist.load_data()\n",
        "\n",
        "# One-hot encode y_train and y_test\n",
        "y_train = keras.utils.to_categorical(y_train)\n",
        "y_test = keras.utils.to_categorical(y_test)"
      ],
      "execution_count": 0,
      "outputs": []
    },
    {
      "cell_type": "markdown",
      "metadata": {
        "id": "KHmBaITxrITO",
        "colab_type": "text"
      },
      "source": [
        "### Resize (No Interpolation) Util Function"
      ]
    },
    {
      "cell_type": "code",
      "metadata": {
        "id": "7WkhIhHKrHTf",
        "colab_type": "code",
        "colab": {}
      },
      "source": [
        "def noInterResize(image, shape):\n",
        "  return skimage.transform.resize(image, shape, mode='edge', anti_aliasing=False,\n",
        "                                  anti_aliasing_sigma=None, preserve_range=True, order=0)"
      ],
      "execution_count": 0,
      "outputs": []
    },
    {
      "cell_type": "markdown",
      "metadata": {
        "id": "X-3yqybIM-_E",
        "colab_type": "text"
      },
      "source": [
        "## Functions for extracting Hand-Crafted Features from Data"
      ]
    },
    {
      "cell_type": "markdown",
      "metadata": {
        "id": "2QJUyrh5NHDg",
        "colab_type": "text"
      },
      "source": [
        "### Extract width of digit"
      ]
    },
    {
      "cell_type": "code",
      "metadata": {
        "id": "wBYWg3USNax-",
        "colab_type": "code",
        "colab": {}
      },
      "source": [
        "def extractWidth(image, th=0.5):\n",
        "  minX, maxX = 0, 28\n",
        "  # Get the minimum margin boundary\n",
        "  flag = False\n",
        "  for x in range(len(image[0])):\n",
        "    for y in range(len(image)):\n",
        "      pixel = image[y][x]\n",
        "      if pixel > th:\n",
        "        flag = True\n",
        "        minX = x\n",
        "        break\n",
        "    if flag:\n",
        "      break\n",
        "  # Get the maximum margin boundary\n",
        "  flag = False\n",
        "  for x in range(len(image[0])-1, -1, -1):\n",
        "    for y in range(len(image)):\n",
        "      pixel = image[y][x]\n",
        "      if pixel > th:\n",
        "        flag = True\n",
        "        maxX = x\n",
        "        break\n",
        "    if flag:\n",
        "      break\n",
        "  # Return range of width\n",
        "  return maxX - minX"
      ],
      "execution_count": 0,
      "outputs": []
    },
    {
      "cell_type": "markdown",
      "metadata": {
        "id": "1VgpWBcpIn2I",
        "colab_type": "text"
      },
      "source": [
        "### Extract height of digit"
      ]
    },
    {
      "cell_type": "code",
      "metadata": {
        "id": "1fnYIuJwItJf",
        "colab_type": "code",
        "colab": {}
      },
      "source": [
        "def extractHeight(image, th=0.5):\n",
        "  minY, maxY = 0, 28\n",
        "  # Get the minimum margin boundary\n",
        "  flag = False\n",
        "  for y in range(len(image)):\n",
        "    for x in range(len(image[0])):\n",
        "      pixel = image[y][x]\n",
        "      if pixel > th:\n",
        "        flag = True\n",
        "        minY = y\n",
        "        break\n",
        "    if flag:\n",
        "      break\n",
        "  # Get the maximum margin boundary\n",
        "  flag = False\n",
        "  for x in range(len(image[0])):\n",
        "    for y in range(len(image)-1, -1, -1):\n",
        "      pixel = image[y][x]\n",
        "      if pixel > th:\n",
        "        flag = True\n",
        "        maxY = y\n",
        "        break\n",
        "    if flag:\n",
        "      break\n",
        "  # Return range of height\n",
        "  return maxY - minY"
      ],
      "execution_count": 0,
      "outputs": []
    },
    {
      "cell_type": "markdown",
      "metadata": {
        "id": "nA6XUj64Pkgy",
        "colab_type": "text"
      },
      "source": [
        "### Extract Pooling Features"
      ]
    },
    {
      "cell_type": "code",
      "metadata": {
        "id": "Nsh9w6JpPpcB",
        "colab_type": "code",
        "colab": {}
      },
      "source": [
        "def extractPoolingFeatures(image):\n",
        "  features = np.zeros((4, 4), dtype='float')\n",
        "  for x in range(4):\n",
        "    for y in range(4):\n",
        "      avg = np.average(image[y*7:y*7+7, x*7:x*7+7]) / 255.0\n",
        "      features[y, x] = avg\n",
        "  return features\n",
        "\n",
        "def extractPoolingFeaturesFlattened(image):\n",
        "  features = np.zeros((4, 4), dtype='float')\n",
        "  for x in range(4):\n",
        "    for y in range(4):\n",
        "      avg = np.average(image[y*7:y*7+7, x*7:x*7+7]) / 255.0\n",
        "      features[y, x] = avg\n",
        "  return features.reshape((16,))"
      ],
      "execution_count": 0,
      "outputs": []
    },
    {
      "cell_type": "markdown",
      "metadata": {
        "id": "MKN8e186NYyr",
        "colab_type": "text"
      },
      "source": [
        "### Extract White Regions"
      ]
    },
    {
      "cell_type": "code",
      "metadata": {
        "id": "kfYVTRrWNp0I",
        "colab_type": "code",
        "colab": {}
      },
      "source": [
        "def recursiveDepthFirstSearch(image, visited, y, x, th):\n",
        "  if y >= 28 or y < 0 or x >= 28 or x < 0:\n",
        "    return\n",
        "  if visited[y, x] == 0 and image[y, x] < th:\n",
        "    visited[y, x] = 1\n",
        "    recursiveDepthFirstSearch(image, visited, y+1, x, th)\n",
        "    recursiveDepthFirstSearch(image, visited, y-1, x, th)\n",
        "    recursiveDepthFirstSearch(image, visited, y, x+1, th)\n",
        "    recursiveDepthFirstSearch(image, visited, y, x-1, th)\n",
        "\n",
        "def extractNumWhiteRegions(image, th=128):\n",
        "  \"\"\"\n",
        "    Extract the number of white regions in the image where any pixel above the\n",
        "    param th is considered white.\n",
        "  \"\"\"\n",
        "  numWhiteRegions = 0\n",
        "  visited = np.zeros(image.shape)\n",
        "  for y in range(image.shape[0]):\n",
        "    for x in range(image.shape[1]):\n",
        "      if image[y, x] < th and visited[y, x] == 0:\n",
        "        numWhiteRegions += 1\n",
        "      recursiveDepthFirstSearch(image, visited, y, x, th)\n",
        "  # One-Hot Encode number of white regions\n",
        "  onehot = np.zeros((4,), dtype='float32')\n",
        "  if numWhiteRegions == 1:\n",
        "    onehot[0] = 1.0\n",
        "  if numWhiteRegions == 2:\n",
        "    onehot[1] = 1.0\n",
        "  if numWhiteRegions == 3:\n",
        "    onehot[2] = 1.0\n",
        "  if numWhiteRegions >= 4:\n",
        "    onehot[3] = 1.0\n",
        "  return onehot\n",
        "        "
      ],
      "execution_count": 0,
      "outputs": []
    },
    {
      "cell_type": "markdown",
      "metadata": {
        "id": "uVQCn8bkJ9xE",
        "colab_type": "text"
      },
      "source": [
        "## Testing Feature Extraction on Images"
      ]
    },
    {
      "cell_type": "markdown",
      "metadata": {
        "id": "5xdwvzPJKGVq",
        "colab_type": "text"
      },
      "source": [
        "### Testing Width Extraction"
      ]
    },
    {
      "cell_type": "code",
      "metadata": {
        "id": "nlzZgHG0KRpM",
        "colab_type": "code",
        "outputId": "a7b7e85a-8786-4612-d733-9d28807e84f7",
        "colab": {
          "base_uri": "https://localhost:8080/",
          "height": 217
        }
      },
      "source": [
        "image = x_train[0]\n",
        "\n",
        "th = 128\n",
        "# Get minimum margin boundary\n",
        "flag = False\n",
        "for x in range(len(image[0])):\n",
        "  for y in range(len(image)):\n",
        "    pixel = image[y][x]\n",
        "    if pixel > th:\n",
        "      flag = True\n",
        "      minX = x\n",
        "      break\n",
        "  if flag:\n",
        "    break\n",
        "\n",
        "# Get width via feature extraction function\n",
        "width = extractWidth(image, th)\n",
        "\n",
        "# Convert image to color\n",
        "image = cv2.cvtColor(image, cv2.COLOR_GRAY2BGR)\n",
        "\n",
        "# Draw lines according to width\n",
        "cv2.line(image, (minX, 0), (minX, 28), (0, 255, 0))\n",
        "cv2.line(image, (minX+width, 0), (minX+width, 28), (0, 255, 0))\n",
        "\n",
        "# Resize image so it is easier to see\n",
        "image = noInterResize(image, (200, 200))\n",
        "\n",
        "# Display image\n",
        "cv2_imshow(image)"
      ],
      "execution_count": 0,
      "outputs": [
        {
          "output_type": "display_data",
          "data": {
            "image/png": "[encoded data removed]",
            "text/plain": [
              "<PIL.Image.Image image mode=RGB size=200x200 at 0x7F93AD73A550>"
            ]
          },
          "metadata": {
            "tags": []
          }
        }
      ]
    },
    {
      "cell_type": "markdown",
      "metadata": {
        "id": "BTAfxdH2Mw4f",
        "colab_type": "text"
      },
      "source": [
        "### Testing Height Extraction"
      ]
    },
    {
      "cell_type": "code",
      "metadata": {
        "id": "m5CzMHA_MzAE",
        "colab_type": "code",
        "outputId": "9a39899d-fe97-4e00-baf6-4478ad2039d1",
        "colab": {
          "base_uri": "https://localhost:8080/",
          "height": 217
        }
      },
      "source": [
        "image = x_train[0]\n",
        "\n",
        "th = 128\n",
        "# Get minimum margin boundary\n",
        "flag = False\n",
        "for y in range(len(image)):\n",
        "  for x in range(len(image[0])):\n",
        "    pixel = image[y][x]\n",
        "    if pixel > th:\n",
        "      flag = True\n",
        "      minY = y\n",
        "      break\n",
        "  if flag:\n",
        "    break\n",
        "\n",
        "# Get height via feature extraction function\n",
        "height = extractHeight(image, th)\n",
        "\n",
        "# Convert image to color\n",
        "image = cv2.cvtColor(image, cv2.COLOR_GRAY2BGR)\n",
        "\n",
        "# Draw lines according to height\n",
        "cv2.line(image, (0, minY), (28, minY), (0, 255, 0))\n",
        "cv2.line(image, (0, minY+height), (28, minY+height), (0, 255, 0))\n",
        "\n",
        "# Resize image so it is easier to see\n",
        "image = noInterResize(image, (200, 200))\n",
        "\n",
        "# Display image\n",
        "cv2_imshow(image)"
      ],
      "execution_count": 0,
      "outputs": [
        {
          "output_type": "display_data",
          "data": {
            "image/png": "[encoded data removed]",
            "text/plain": [
              "<PIL.Image.Image image mode=RGB size=200x200 at 0x7F93A5AB9EF0>"
            ]
          },
          "metadata": {
            "tags": []
          }
        }
      ]
    },
    {
      "cell_type": "markdown",
      "metadata": {
        "id": "UTV7q_YsqHRl",
        "colab_type": "text"
      },
      "source": [
        "### Testing Pooling Feature Extraction"
      ]
    },
    {
      "cell_type": "code",
      "metadata": {
        "id": "2CpcovHCqKdH",
        "colab_type": "code",
        "outputId": "5290bc80-9aa3-4feb-f053-2926690ad69b",
        "colab": {
          "base_uri": "https://localhost:8080/",
          "height": 1000
        }
      },
      "source": [
        "# Getting the averages of for all mnist digits for comparison of effectiveness\n",
        "\n",
        "# Initialize averages\n",
        "runningTotals = [np.zeros((4,4), dtype='float') for i in range(10)]\n",
        "\n",
        "for digit in range(10):\n",
        "  allDigits = x_train[np.where(y_train[digit] == 1)]\n",
        "  for image in allDigits:\n",
        "    poolingFeatures = extractPoolingFeatures(image)\n",
        "    runningTotals[digit] = np.add(runningTotals[digit], poolingFeatures)\n",
        "  runningTotals[digit] /= len(allDigits) / 255.0\n",
        "  image = noInterResize(runningTotals[digit], (200, 200))\n",
        "  print(digit)\n",
        "  cv2_imshow(image)"
      ],
      "execution_count": 0,
      "outputs": [
        {
          "output_type": "stream",
          "text": [
            "0\n"
          ],
          "name": "stdout"
        },
        {
          "output_type": "display_data",
          "data": {
            "image/png": "[encoded data removed]",
            "text/plain": [
              "<PIL.Image.Image image mode=L size=200x200 at 0x7F93AAA82FD0>"
            ]
          },
          "metadata": {
            "tags": []
          }
        },
        {
          "output_type": "stream",
          "text": [
            "1\n"
          ],
          "name": "stdout"
        },
        {
          "output_type": "display_data",
          "data": {
            "image/png": "[encoded data removed]",
            "text/plain": [
              "<PIL.Image.Image image mode=L size=200x200 at 0x7F93AAA827F0>"
            ]
          },
          "metadata": {
            "tags": []
          }
        },
        {
          "output_type": "stream",
          "text": [
            "2\n"
          ],
          "name": "stdout"
        },
        {
          "output_type": "display_data",
          "data": {
            "image/png": "[encoded data removed]",
            "text/plain": [
              "<PIL.Image.Image image mode=L size=200x200 at 0x7F93AAA82FD0>"
            ]
          },
          "metadata": {
            "tags": []
          }
        },
        {
          "output_type": "stream",
          "text": [
            "3\n"
          ],
          "name": "stdout"
        },
        {
          "output_type": "display_data",
          "data": {
            "image/png": "[encoded data removed]",
            "text/plain": [
              "<PIL.Image.Image image mode=L size=200x200 at 0x7F93AAA827F0>"
            ]
          },
          "metadata": {
            "tags": []
          }
        },
        {
          "output_type": "stream",
          "text": [
            "4\n"
          ],
          "name": "stdout"
        },
        {
          "output_type": "display_data",
          "data": {
            "image/png": "[encoded data removed]",
            "text/plain": [
              "<PIL.Image.Image image mode=L size=200x200 at 0x7F93AAA82FD0>"
            ]
          },
          "metadata": {
            "tags": []
          }
        },
        {
          "output_type": "stream",
          "text": [
            "5\n"
          ],
          "name": "stdout"
        },
        {
          "output_type": "display_data",
          "data": {
            "image/png": "[encoded data removed]",
            "text/plain": [
              "<PIL.Image.Image image mode=L size=200x200 at 0x7F93AAA827F0>"
            ]
          },
          "metadata": {
            "tags": []
          }
        },
        {
          "output_type": "stream",
          "text": [
            "6\n"
          ],
          "name": "stdout"
        },
        {
          "output_type": "display_data",
          "data": {
            "image/png": "[encoded data removed]",
            "text/plain": [
              "<PIL.Image.Image image mode=L size=200x200 at 0x7F93AAA82FD0>"
            ]
          },
          "metadata": {
            "tags": []
          }
        },
        {
          "output_type": "stream",
          "text": [
            "7\n"
          ],
          "name": "stdout"
        },
        {
          "output_type": "display_data",
          "data": {
            "image/png": "[encoded data removed]",
            "text/plain": [
              "<PIL.Image.Image image mode=L size=200x200 at 0x7F93AAA827F0>"
            ]
          },
          "metadata": {
            "tags": []
          }
        },
        {
          "output_type": "stream",
          "text": [
            "8\n"
          ],
          "name": "stdout"
        },
        {
          "output_type": "display_data",
          "data": {
            "image/png": "[encoded data removed]",
            "text/plain": [
              "<PIL.Image.Image image mode=L size=200x200 at 0x7F93AAA82FD0>"
            ]
          },
          "metadata": {
            "tags": []
          }
        },
        {
          "output_type": "stream",
          "text": [
            "9\n"
          ],
          "name": "stdout"
        },
        {
          "output_type": "display_data",
          "data": {
            "image/png": "[encoded data removed]",
            "text/plain": [
              "<PIL.Image.Image image mode=L size=200x200 at 0x7F93AAA827F0>"
            ]
          },
          "metadata": {
            "tags": []
          }
        }
      ]
    },
    {
      "cell_type": "markdown",
      "metadata": {
        "id": "i0jNspfNP6IT",
        "colab_type": "text"
      },
      "source": [
        "### Testing Number of White Regions Extraction"
      ]
    },
    {
      "cell_type": "code",
      "metadata": {
        "id": "rvbF_blSP_MX",
        "colab_type": "code",
        "outputId": "293a387b-59d2-49a5-ee3c-0f8ac1ec1559",
        "colab": {
          "base_uri": "https://localhost:8080/",
          "height": 236
        }
      },
      "source": [
        "image = x_train[17]\n",
        "\n",
        "# Resize image so it is easier to see\n",
        "resizedImage = noInterResize(image, (200, 200))\n",
        "\n",
        "# Display resized image\n",
        "cv2_imshow(resizedImage)\n",
        "\n",
        "th = 128\n",
        "numOfWhiteRegions = extractNumWhiteRegions(image, th)\n",
        "print(numOfWhiteRegions)"
      ],
      "execution_count": 0,
      "outputs": [
        {
          "output_type": "display_data",
          "data": {
            "image/png": "[encoded data removed]",
            "text/plain": [
              "<PIL.Image.Image image mode=L size=200x200 at 0x7F93AAA824A8>"
            ]
          },
          "metadata": {
            "tags": []
          }
        },
        {
          "output_type": "stream",
          "text": [
            "[0. 0. 1. 0.]\n"
          ],
          "name": "stdout"
        }
      ]
    },
    {
      "cell_type": "markdown",
      "metadata": {
        "id": "sS7BZloFv3RJ",
        "colab_type": "text"
      },
      "source": [
        "## Build a Keras Model"
      ]
    },
    {
      "cell_type": "code",
      "metadata": {
        "id": "u0nBCvAsv7BC",
        "colab_type": "code",
        "outputId": "3be4bf59-57b3-4732-f18c-478da2c33953",
        "colab": {
          "base_uri": "https://localhost:8080/",
          "height": 172
        }
      },
      "source": [
        "INPUT_SHAPE = (22,)\n",
        "\n",
        "model = keras.models.Sequential()\n",
        "model.add(keras.layers.Dense(10, activation='softmax', input_shape=INPUT_SHAPE))\n",
        "model.compile(optimizer='adam', loss='mse', metrics=['accuracy'])"
      ],
      "execution_count": 0,
      "outputs": [
        {
          "output_type": "stream",
          "text": [
            "WARNING:tensorflow:From /usr/local/lib/python3.6/dist-packages/keras/backend/tensorflow_backend.py:66: The name tf.get_default_graph is deprecated. Please use tf.compat.v1.get_default_graph instead.\n",
            "\n",
            "WARNING:tensorflow:From /usr/local/lib/python3.6/dist-packages/keras/backend/tensorflow_backend.py:541: The name tf.placeholder is deprecated. Please use tf.compat.v1.placeholder instead.\n",
            "\n",
            "WARNING:tensorflow:From /usr/local/lib/python3.6/dist-packages/keras/backend/tensorflow_backend.py:4432: The name tf.random_uniform is deprecated. Please use tf.random.uniform instead.\n",
            "\n",
            "WARNING:tensorflow:From /usr/local/lib/python3.6/dist-packages/keras/optimizers.py:793: The name tf.train.Optimizer is deprecated. Please use tf.compat.v1.train.Optimizer instead.\n",
            "\n"
          ],
          "name": "stdout"
        }
      ]
    },
    {
      "cell_type": "markdown",
      "metadata": {
        "id": "PQYblscL0swI",
        "colab_type": "text"
      },
      "source": [
        "## Process Training Data, Gathering Hand-Crafted Features in New x_train Array"
      ]
    },
    {
      "cell_type": "code",
      "metadata": {
        "id": "FyVjvdU901-x",
        "colab_type": "code",
        "outputId": "a70a46f8-f6f6-40df-a6a6-8faba1fef0ce",
        "colab": {
          "base_uri": "https://localhost:8080/",
          "height": 153
        }
      },
      "source": [
        "new_x_train = []\n",
        "\n",
        "i = 0\n",
        "for x in x_train:\n",
        "  width = np.array([extractWidth(x)]).reshape(1,)\n",
        "  height = np.array([extractHeight(x)]).reshape(1,)\n",
        "  poolingFeatures = extractPoolingFeatures(x).reshape((16,))\n",
        "  numWhiteRegions = np.array([extractNumWhiteRegions(x)]).reshape(4,)\n",
        "  vecX = np.concatenate((width, height, poolingFeatures, numWhiteRegions))\n",
        "  new_x_train.append(vecX)\n",
        "  i += 1\n",
        "\n",
        "  if i % 10000 == 0:\n",
        "    print(i)\n",
        "\n",
        "print('Done')"
      ],
      "execution_count": 0,
      "outputs": [
        {
          "output_type": "stream",
          "text": [
            "10000\n",
            "20000\n",
            "30000\n",
            "40000\n",
            "50000\n",
            "60000\n",
            "Done\n"
          ],
          "name": "stdout"
        }
      ]
    },
    {
      "cell_type": "markdown",
      "metadata": {
        "id": "nxNgrZNoCFbu",
        "colab_type": "text"
      },
      "source": [
        "## Process Testing Data, Gathering Hand-Crafted Features in New x_test Array"
      ]
    },
    {
      "cell_type": "code",
      "metadata": {
        "id": "s2if5czbCLiI",
        "colab_type": "code",
        "outputId": "35e9b7db-b19c-4a84-b257-aa321ed16e53",
        "colab": {
          "base_uri": "https://localhost:8080/",
          "height": 230
        }
      },
      "source": [
        "new_x_test = []\n",
        "\n",
        "i = 0\n",
        "for x in x_test:\n",
        "  width = np.array([extractWidth(x)]).reshape(1,)\n",
        "  height = np.array([extractHeight(x)]).reshape(1,)\n",
        "  poolingFeatures = extractPoolingFeatures(x).reshape((16,))\n",
        "  numWhiteRegions = np.array([extractNumWhiteRegions(x)]).reshape(4,)\n",
        "  vecX = np.concatenate((width, height, poolingFeatures, numWhiteRegions))\n",
        "  new_x_test.append(vecX)\n",
        "  i += 1\n",
        "  \n",
        "  if i % 1000 == 0:\n",
        "    print(i)\n",
        "\n",
        "print('Done')"
      ],
      "execution_count": 0,
      "outputs": [
        {
          "output_type": "stream",
          "text": [
            "1000\n",
            "2000\n",
            "3000\n",
            "4000\n",
            "5000\n",
            "6000\n",
            "7000\n",
            "8000\n",
            "9000\n",
            "10000\n",
            "Done\n"
          ],
          "name": "stdout"
        }
      ]
    },
    {
      "cell_type": "markdown",
      "metadata": {
        "id": "8SdABB4uC_e6",
        "colab_type": "text"
      },
      "source": [
        "## Fit Model and Evaluate Score"
      ]
    },
    {
      "cell_type": "code",
      "metadata": {
        "id": "xPI2V2dZDDEj",
        "colab_type": "code",
        "outputId": "1d727e4c-c4db-4e75-9c5e-b9727cb80d58",
        "colab": {
          "base_uri": "https://localhost:8080/",
          "height": 1000
        }
      },
      "source": [
        "new_x_train = np.asarray(new_x_train)\n",
        "new_x_test = np.asarray(new_x_test)\n",
        "\n",
        "EPOCHS = 50\n",
        "\n",
        "print(new_x_train.shape)\n",
        "\n",
        "history = model.fit(new_x_train, y_train, batch_size=128, epochs=EPOCHS, verbose=1, validation_split=0.2)"
      ],
      "execution_count": 0,
      "outputs": [
        {
          "output_type": "stream",
          "text": [
            "(60000, 22)\n",
            "WARNING:tensorflow:From /usr/local/lib/python3.6/dist-packages/keras/backend/tensorflow_backend.py:1033: The name tf.assign_add is deprecated. Please use tf.compat.v1.assign_add instead.\n",
            "\n",
            "WARNING:tensorflow:From /usr/local/lib/python3.6/dist-packages/keras/backend/tensorflow_backend.py:1020: The name tf.assign is deprecated. Please use tf.compat.v1.assign instead.\n",
            "\n",
            "WARNING:tensorflow:From /usr/local/lib/python3.6/dist-packages/keras/backend/tensorflow_backend.py:3005: The name tf.Session is deprecated. Please use tf.compat.v1.Session instead.\n",
            "\n",
            "Train on 48000 samples, validate on 12000 samples\n",
            "Epoch 1/50\n",
            "WARNING:tensorflow:From /usr/local/lib/python3.6/dist-packages/keras/backend/tensorflow_backend.py:190: The name tf.get_default_session is deprecated. Please use tf.compat.v1.get_default_session instead.\n",
            "\n",
            "WARNING:tensorflow:From /usr/local/lib/python3.6/dist-packages/keras/backend/tensorflow_backend.py:197: The name tf.ConfigProto is deprecated. Please use tf.compat.v1.ConfigProto instead.\n",
            "\n",
            "WARNING:tensorflow:From /usr/local/lib/python3.6/dist-packages/keras/backend/tensorflow_backend.py:207: The name tf.global_variables is deprecated. Please use tf.compat.v1.global_variables instead.\n",
            "\n",
            "WARNING:tensorflow:From /usr/local/lib/python3.6/dist-packages/keras/backend/tensorflow_backend.py:216: The name tf.is_variable_initialized is deprecated. Please use tf.compat.v1.is_variable_initialized instead.\n",
            "\n",
            "WARNING:tensorflow:From /usr/local/lib/python3.6/dist-packages/keras/backend/tensorflow_backend.py:223: The name tf.variables_initializer is deprecated. Please use tf.compat.v1.variables_initializer instead.\n",
            "\n",
            "48000/48000 [==============================] - 1s 25us/step - loss: 0.0976 - acc: 0.2142 - val_loss: 0.0780 - val_acc: 0.3725\n",
            "Epoch 2/50\n",
            "48000/48000 [==============================] - 1s 11us/step - loss: 0.0722 - acc: 0.4689 - val_loss: 0.0674 - val_acc: 0.5309\n",
            "Epoch 3/50\n",
            "48000/48000 [==============================] - 0s 10us/step - loss: 0.0647 - acc: 0.5516 - val_loss: 0.0610 - val_acc: 0.6082\n",
            "Epoch 4/50\n",
            "48000/48000 [==============================] - 1s 11us/step - loss: 0.0593 - acc: 0.6178 - val_loss: 0.0563 - val_acc: 0.6472\n",
            "Epoch 5/50\n",
            "48000/48000 [==============================] - 1s 11us/step - loss: 0.0551 - acc: 0.6525 - val_loss: 0.0526 - val_acc: 0.6869\n",
            "Epoch 6/50\n",
            "48000/48000 [==============================] - 1s 11us/step - loss: 0.0517 - acc: 0.6787 - val_loss: 0.0492 - val_acc: 0.7116\n",
            "Epoch 7/50\n",
            "48000/48000 [==============================] - 1s 11us/step - loss: 0.0489 - acc: 0.6989 - val_loss: 0.0468 - val_acc: 0.7191\n",
            "Epoch 8/50\n",
            "48000/48000 [==============================] - 1s 11us/step - loss: 0.0466 - acc: 0.7133 - val_loss: 0.0445 - val_acc: 0.7356\n",
            "Epoch 9/50\n",
            "48000/48000 [==============================] - 1s 11us/step - loss: 0.0447 - acc: 0.7246 - val_loss: 0.0427 - val_acc: 0.7421\n",
            "Epoch 10/50\n",
            "48000/48000 [==============================] - 0s 10us/step - loss: 0.0431 - acc: 0.7331 - val_loss: 0.0412 - val_acc: 0.7552\n",
            "Epoch 11/50\n",
            "48000/48000 [==============================] - 0s 10us/step - loss: 0.0417 - acc: 0.7389 - val_loss: 0.0398 - val_acc: 0.7591\n",
            "Epoch 12/50\n",
            "48000/48000 [==============================] - 0s 10us/step - loss: 0.0405 - acc: 0.7446 - val_loss: 0.0386 - val_acc: 0.7622\n",
            "Epoch 13/50\n",
            "48000/48000 [==============================] - 0s 10us/step - loss: 0.0394 - acc: 0.7511 - val_loss: 0.0376 - val_acc: 0.7681\n",
            "Epoch 14/50\n",
            "48000/48000 [==============================] - 0s 10us/step - loss: 0.0384 - acc: 0.7555 - val_loss: 0.0366 - val_acc: 0.7713\n",
            "Epoch 15/50\n",
            "48000/48000 [==============================] - 0s 10us/step - loss: 0.0375 - acc: 0.7616 - val_loss: 0.0358 - val_acc: 0.7777\n",
            "Epoch 16/50\n",
            "48000/48000 [==============================] - 0s 10us/step - loss: 0.0368 - acc: 0.7658 - val_loss: 0.0351 - val_acc: 0.7805\n",
            "Epoch 17/50\n",
            "48000/48000 [==============================] - 0s 10us/step - loss: 0.0360 - acc: 0.7697 - val_loss: 0.0344 - val_acc: 0.7832\n",
            "Epoch 18/50\n",
            "48000/48000 [==============================] - 0s 10us/step - loss: 0.0354 - acc: 0.7744 - val_loss: 0.0338 - val_acc: 0.7875\n",
            "Epoch 19/50\n",
            "48000/48000 [==============================] - 1s 11us/step - loss: 0.0348 - acc: 0.7775 - val_loss: 0.0333 - val_acc: 0.7901\n",
            "Epoch 20/50\n",
            "48000/48000 [==============================] - 1s 10us/step - loss: 0.0343 - acc: 0.7812 - val_loss: 0.0327 - val_acc: 0.7936\n",
            "Epoch 21/50\n",
            "48000/48000 [==============================] - 1s 11us/step - loss: 0.0338 - acc: 0.7860 - val_loss: 0.0322 - val_acc: 0.7969\n",
            "Epoch 22/50\n",
            "48000/48000 [==============================] - 1s 11us/step - loss: 0.0333 - acc: 0.7887 - val_loss: 0.0318 - val_acc: 0.7983\n",
            "Epoch 23/50\n",
            "48000/48000 [==============================] - 0s 10us/step - loss: 0.0329 - acc: 0.7901 - val_loss: 0.0314 - val_acc: 0.8016\n",
            "Epoch 24/50\n",
            "48000/48000 [==============================] - 0s 10us/step - loss: 0.0325 - acc: 0.7924 - val_loss: 0.0310 - val_acc: 0.8057\n",
            "Epoch 25/50\n",
            "48000/48000 [==============================] - 1s 11us/step - loss: 0.0321 - acc: 0.7950 - val_loss: 0.0307 - val_acc: 0.8050\n",
            "Epoch 26/50\n",
            "48000/48000 [==============================] - 0s 10us/step - loss: 0.0318 - acc: 0.7964 - val_loss: 0.0304 - val_acc: 0.8068\n",
            "Epoch 27/50\n",
            "48000/48000 [==============================] - 0s 10us/step - loss: 0.0315 - acc: 0.7974 - val_loss: 0.0301 - val_acc: 0.8083\n",
            "Epoch 28/50\n",
            "48000/48000 [==============================] - 0s 10us/step - loss: 0.0313 - acc: 0.7980 - val_loss: 0.0298 - val_acc: 0.8090\n",
            "Epoch 29/50\n",
            "48000/48000 [==============================] - 0s 10us/step - loss: 0.0310 - acc: 0.7999 - val_loss: 0.0295 - val_acc: 0.8125\n",
            "Epoch 30/50\n",
            "48000/48000 [==============================] - 1s 10us/step - loss: 0.0308 - acc: 0.8017 - val_loss: 0.0293 - val_acc: 0.8109\n",
            "Epoch 31/50\n",
            "48000/48000 [==============================] - 1s 10us/step - loss: 0.0306 - acc: 0.8020 - val_loss: 0.0292 - val_acc: 0.8127\n",
            "Epoch 32/50\n",
            "48000/48000 [==============================] - 1s 10us/step - loss: 0.0304 - acc: 0.8031 - val_loss: 0.0289 - val_acc: 0.8136\n",
            "Epoch 33/50\n",
            "48000/48000 [==============================] - 1s 11us/step - loss: 0.0302 - acc: 0.8040 - val_loss: 0.0288 - val_acc: 0.8140\n",
            "Epoch 34/50\n",
            "48000/48000 [==============================] - 1s 10us/step - loss: 0.0300 - acc: 0.8048 - val_loss: 0.0286 - val_acc: 0.8145\n",
            "Epoch 35/50\n",
            "48000/48000 [==============================] - 1s 11us/step - loss: 0.0299 - acc: 0.8051 - val_loss: 0.0285 - val_acc: 0.8156\n",
            "Epoch 36/50\n",
            "48000/48000 [==============================] - 0s 10us/step - loss: 0.0297 - acc: 0.8057 - val_loss: 0.0282 - val_acc: 0.8160\n",
            "Epoch 37/50\n",
            "48000/48000 [==============================] - 1s 11us/step - loss: 0.0296 - acc: 0.8060 - val_loss: 0.0283 - val_acc: 0.8158\n",
            "Epoch 38/50\n",
            "48000/48000 [==============================] - 0s 10us/step - loss: 0.0294 - acc: 0.8060 - val_loss: 0.0280 - val_acc: 0.8174\n",
            "Epoch 39/50\n",
            "48000/48000 [==============================] - 0s 10us/step - loss: 0.0293 - acc: 0.8071 - val_loss: 0.0280 - val_acc: 0.8148\n",
            "Epoch 40/50\n",
            "48000/48000 [==============================] - 0s 10us/step - loss: 0.0292 - acc: 0.8072 - val_loss: 0.0277 - val_acc: 0.8207\n",
            "Epoch 41/50\n",
            "48000/48000 [==============================] - 0s 10us/step - loss: 0.0291 - acc: 0.8088 - val_loss: 0.0277 - val_acc: 0.8183\n",
            "Epoch 42/50\n",
            "48000/48000 [==============================] - 1s 10us/step - loss: 0.0290 - acc: 0.8087 - val_loss: 0.0275 - val_acc: 0.8197\n",
            "Epoch 43/50\n",
            "48000/48000 [==============================] - 1s 11us/step - loss: 0.0289 - acc: 0.8093 - val_loss: 0.0275 - val_acc: 0.8197\n",
            "Epoch 44/50\n",
            "48000/48000 [==============================] - 0s 10us/step - loss: 0.0288 - acc: 0.8092 - val_loss: 0.0274 - val_acc: 0.8170\n",
            "Epoch 45/50\n",
            "48000/48000 [==============================] - 1s 11us/step - loss: 0.0287 - acc: 0.8099 - val_loss: 0.0272 - val_acc: 0.8210\n",
            "Epoch 46/50\n",
            "48000/48000 [==============================] - 0s 10us/step - loss: 0.0286 - acc: 0.8107 - val_loss: 0.0272 - val_acc: 0.8196\n",
            "Epoch 47/50\n",
            "48000/48000 [==============================] - 0s 10us/step - loss: 0.0285 - acc: 0.8109 - val_loss: 0.0270 - val_acc: 0.8214\n",
            "Epoch 48/50\n",
            "48000/48000 [==============================] - 0s 10us/step - loss: 0.0284 - acc: 0.8112 - val_loss: 0.0270 - val_acc: 0.8227\n",
            "Epoch 49/50\n",
            "48000/48000 [==============================] - 1s 10us/step - loss: 0.0283 - acc: 0.8121 - val_loss: 0.0269 - val_acc: 0.8200\n",
            "Epoch 50/50\n",
            "48000/48000 [==============================] - 1s 11us/step - loss: 0.0283 - acc: 0.8128 - val_loss: 0.0270 - val_acc: 0.8213\n"
          ],
          "name": "stdout"
        }
      ]
    },
    {
      "cell_type": "code",
      "metadata": {
        "id": "-OnaxltWFgAL",
        "colab_type": "code",
        "outputId": "9818b7d0-ea36-4e82-f610-87b989e78f18",
        "colab": {
          "base_uri": "https://localhost:8080/",
          "height": 75
        }
      },
      "source": [
        "metrics = model.evaluate(new_x_test, y_test)\n",
        "print('Test Loss:', metrics[0])\n",
        "print('Test Accuracy:', metrics[1])"
      ],
      "execution_count": 0,
      "outputs": [
        {
          "output_type": "stream",
          "text": [
            "10000/10000 [==============================] - 0s 18us/step\n",
            "Test Loss: 0.027824163883924485\n",
            "Test Accuracy: 0.8127\n"
          ],
          "name": "stdout"
        }
      ]
    },
    {
      "cell_type": "code",
      "metadata": {
        "id": "xyRvIdClGrQQ",
        "colab_type": "code",
        "colab": {}
      },
      "source": [
        "history_dict = history.history\n",
        "loss_values = history_dict['loss']\n",
        "test_loss_values = history_dict['val_loss']\n",
        "epochs_range = range(1, EPOCHS+1)"
      ],
      "execution_count": 0,
      "outputs": []
    },
    {
      "cell_type": "code",
      "metadata": {
        "id": "6uHyhm_WG0Cr",
        "colab_type": "code",
        "outputId": "557df9cc-939b-4dc9-c8b0-35096aac7181",
        "colab": {
          "base_uri": "https://localhost:8080/",
          "height": 295
        }
      },
      "source": [
        "plt.plot(epochs_range, loss_values, 'bo', label='Training loss')\n",
        "plt.plot(epochs_range, test_loss_values, 'ro', label='Test loss')\n",
        "plt.title('Training and test loss')\n",
        "plt.xlabel('Epochs')\n",
        "plt.ylabel('Loss')\n",
        "plt.legend()\n",
        "plt.show()"
      ],
      "execution_count": 0,
      "outputs": [
        {
          "output_type": "display_data",
          "data": {
            "image/png": "[encoded data removed]",
            "text/plain": [
              "<Figure size 432x288 with 1 Axes>"
            ]
          },
          "metadata": {
            "tags": []
          }
        }
      ]
    },
    {
      "cell_type": "code",
      "metadata": {
        "id": "tT7FsNBGHfrJ",
        "colab_type": "code",
        "outputId": "25b7ef37-9c20-4879-c053-a66aee0946f2",
        "colab": {
          "base_uri": "https://localhost:8080/",
          "height": 295
        }
      },
      "source": [
        "acc_values = history_dict['acc']\n",
        "test_acc_values = history_dict['val_acc']\n",
        "plt.plot(epochs_range, acc_values, 'bo', label='Training accuracy')\n",
        "plt.plot(epochs_range, test_acc_values, 'ro', label='Test accuracy')\n",
        "plt.title('Training and test accuracy')\n",
        "plt.xlabel('Epochs')\n",
        "plt.ylabel('Accuracy')\n",
        "plt.legend()\n",
        "plt.show()"
      ],
      "execution_count": 0,
      "outputs": [
        {
          "output_type": "display_data",
          "data": {
            "image/png": "[encoded data removed]",
            "text/plain": [
              "<Figure size 432x288 with 1 Axes>"
            ]
          },
          "metadata": {
            "tags": []
          }
        }
      ]
    },
    {
      "cell_type": "markdown",
      "metadata": {
        "id": "MWCqow1bGZ9D",
        "colab_type": "text"
      },
      "source": [
        "As the graphs show, the network seems to be nearing its peak performance with its current features and settings. 81% accuracy on the testing dataset isn't too bad for only a single layer network with hand-crafted features. Certainly, we could find better features to raise the performance even higher though.\n",
        "\n",
        "One important thing to note is that the network does not seem to be overfitting at all. The gap between the training and testing scores is very, very small."
      ]
    }
  ]
}