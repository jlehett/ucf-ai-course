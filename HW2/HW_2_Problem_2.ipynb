{
  "nbformat": 4,
  "nbformat_minor": 0,
  "metadata": {
    "colab": {
      "name": "HW-2-Problem-2",
      "provenance": [],
      "collapsed_sections": []
    },
    "kernelspec": {
      "name": "python3",
      "display_name": "Python 3"
    }
  },
  "cells": [
    {
      "cell_type": "markdown",
      "metadata": {
        "id": "rt44vyY1xW9b",
        "colab_type": "text"
      },
      "source": [
        "# MNIST fashion data set"
      ]
    },
    {
      "cell_type": "markdown",
      "metadata": {
        "id": "l34GNy7tyNks",
        "colab_type": "text"
      },
      "source": [
        "## Loading the MNIST fashion data set"
      ]
    },
    {
      "cell_type": "code",
      "metadata": {
        "id": "FSJyddqGexl5",
        "colab_type": "code",
        "colab": {}
      },
      "source": [
        "import tensorflow as tf\n",
        "from tensorflow import keras\n",
        "\n",
        "fashion_mnist = keras.datasets.fashion_mnist\n",
        "\n",
        "(train_images, train_labels), (test_images, test_labels) = fashion_mnist.load_data()"
      ],
      "execution_count": 0,
      "outputs": []
    },
    {
      "cell_type": "markdown",
      "metadata": {
        "id": "XuWVQX3CySIC",
        "colab_type": "text"
      },
      "source": [
        "## Exploring the format of the MNIST fashion data set"
      ]
    },
    {
      "cell_type": "code",
      "metadata": {
        "id": "HKyztEf4fkBg",
        "colab_type": "code",
        "outputId": "e48bde66-5538-455f-b600-8e150f92c3ff",
        "colab": {
          "base_uri": "https://localhost:8080/",
          "height": 34
        }
      },
      "source": [
        "train_images.shape"
      ],
      "execution_count": 0,
      "outputs": [
        {
          "output_type": "execute_result",
          "data": {
            "text/plain": [
              "(60000, 28, 28)"
            ]
          },
          "metadata": {
            "tags": []
          },
          "execution_count": 5
        }
      ]
    },
    {
      "cell_type": "code",
      "metadata": {
        "id": "vA81OpzFyjyS",
        "colab_type": "code",
        "outputId": "0f2ede22-e903-4dee-9c93-be8f717412c0",
        "colab": {
          "base_uri": "https://localhost:8080/",
          "height": 34
        }
      },
      "source": [
        "len(train_images)"
      ],
      "execution_count": 0,
      "outputs": [
        {
          "output_type": "execute_result",
          "data": {
            "text/plain": [
              "60000"
            ]
          },
          "metadata": {
            "tags": []
          },
          "execution_count": 6
        }
      ]
    },
    {
      "cell_type": "code",
      "metadata": {
        "id": "w85BC1AXxwds",
        "colab_type": "code",
        "outputId": "d7797678-565c-4fb3-bb5b-23fa53711975",
        "colab": {
          "base_uri": "https://localhost:8080/",
          "height": 34
        }
      },
      "source": [
        "train_images.ndim"
      ],
      "execution_count": 0,
      "outputs": [
        {
          "output_type": "execute_result",
          "data": {
            "text/plain": [
              "3"
            ]
          },
          "metadata": {
            "tags": []
          },
          "execution_count": 7
        }
      ]
    },
    {
      "cell_type": "code",
      "metadata": {
        "id": "1sHFiZBFxnrB",
        "colab_type": "code",
        "outputId": "33a62ec2-3718-46c2-aeb0-6af1ab7fc11d",
        "colab": {
          "base_uri": "https://localhost:8080/",
          "height": 34
        }
      },
      "source": [
        "train_images.dtype"
      ],
      "execution_count": 0,
      "outputs": [
        {
          "output_type": "execute_result",
          "data": {
            "text/plain": [
              "dtype('uint8')"
            ]
          },
          "metadata": {
            "tags": []
          },
          "execution_count": 8
        }
      ]
    },
    {
      "cell_type": "code",
      "metadata": {
        "id": "euQWeEkpyCL5",
        "colab_type": "code",
        "outputId": "0c3e6aa2-7eb4-45b4-c61e-d954447e6c8c",
        "colab": {
          "base_uri": "https://localhost:8080/",
          "height": 34
        }
      },
      "source": [
        "train_labels"
      ],
      "execution_count": 0,
      "outputs": [
        {
          "output_type": "execute_result",
          "data": {
            "text/plain": [
              "array([9, 0, 0, ..., 3, 0, 5], dtype=uint8)"
            ]
          },
          "metadata": {
            "tags": []
          },
          "execution_count": 9
        }
      ]
    },
    {
      "cell_type": "code",
      "metadata": {
        "id": "jqv0aUL-gGU_",
        "colab_type": "code",
        "outputId": "49d3a937-b9c1-44b0-dab4-e92bff01ee25",
        "colab": {
          "base_uri": "https://localhost:8080/",
          "height": 34
        }
      },
      "source": [
        "len(train_labels)"
      ],
      "execution_count": 0,
      "outputs": [
        {
          "output_type": "execute_result",
          "data": {
            "text/plain": [
              "60000"
            ]
          },
          "metadata": {
            "tags": []
          },
          "execution_count": 10
        }
      ]
    },
    {
      "cell_type": "code",
      "metadata": {
        "id": "aa2r6ZRcO7XV",
        "colab_type": "code",
        "colab": {}
      },
      "source": [
        "class_names = ['T-shirt/top', 'Trouser', 'Pullover', 'Dress', 'Coat',\n",
        "               'Sandal', 'Shirt', 'Sneaker', 'Bag', 'Ankle boot']"
      ],
      "execution_count": 0,
      "outputs": []
    },
    {
      "cell_type": "markdown",
      "metadata": {
        "id": "dmQ2siA7ywPx",
        "colab_type": "text"
      },
      "source": [
        "## Displaying some MNIST fashion items"
      ]
    },
    {
      "cell_type": "code",
      "metadata": {
        "id": "uSj4HIhWzBxl",
        "colab_type": "code",
        "colab": {}
      },
      "source": [
        "import matplotlib.pyplot as plt\n",
        "import numpy as np"
      ],
      "execution_count": 0,
      "outputs": []
    },
    {
      "cell_type": "code",
      "metadata": {
        "id": "1Gdt3obzgQaY",
        "colab_type": "code",
        "outputId": "86df6fe8-94a5-4d31-b902-803c64041218",
        "colab": {
          "base_uri": "https://localhost:8080/",
          "height": 589
        }
      },
      "source": [
        "plt.figure(figsize=(10,10))\n",
        "indices = np.random.choice(np.arange(60000), size=25, replace=False)\n",
        "for i in range(25):\n",
        "    plt.subplot(5,5,i+1)\n",
        "    plt.xticks([])\n",
        "    plt.yticks([])\n",
        "    plt.grid(False)\n",
        "    plt.imshow(train_images[i], cmap=plt.cm.binary)\n",
        "    plt.xlabel(class_names[train_labels[i]])\n",
        "plt.show()"
      ],
      "execution_count": 0,
      "outputs": [
        {
          "output_type": "display_data",
          "data": {
            "image/png": "[encoded data removed]",
            "text/plain": [
              "<Figure size 720x720 with 25 Axes>"
            ]
          },
          "metadata": {
            "tags": []
          }
        }
      ]
    },
    {
      "cell_type": "markdown",
      "metadata": {
        "id": "Rcch4U30N53_",
        "colab_type": "text"
      },
      "source": [
        "The data must be preprocessed before training the network. If you inspect the first image in the training set, you will see that the pixel values fall in the range of 0 to 255:"
      ]
    },
    {
      "cell_type": "code",
      "metadata": {
        "id": "luvWbddTMtTX",
        "colab_type": "code",
        "outputId": "77c4ff39-bcf9-491b-c0f4-b020647f666f",
        "colab": {
          "base_uri": "https://localhost:8080/",
          "height": 265
        }
      },
      "source": [
        "plt.figure()\n",
        "plt.imshow(train_images[0])\n",
        "plt.colorbar()\n",
        "plt.grid(False)\n",
        "plt.show()"
      ],
      "execution_count": 0,
      "outputs": [
        {
          "output_type": "display_data",
          "data": {
            "image/png": "[encoded data removed]",
            "text/plain": [
              "<Figure size 432x288 with 2 Axes>"
            ]
          },
          "metadata": {
            "tags": []
          }
        }
      ]
    },
    {
      "cell_type": "markdown",
      "metadata": {
        "id": "JC5iBT_0OCSl",
        "colab_type": "text"
      },
      "source": [
        "## Preprocess the data"
      ]
    },
    {
      "cell_type": "code",
      "metadata": {
        "id": "inugSPsZNytV",
        "colab_type": "code",
        "colab": {}
      },
      "source": [
        "train_images = train_images / 255.0\n",
        "test_images = test_images / 255.0"
      ],
      "execution_count": 0,
      "outputs": []
    },
    {
      "cell_type": "markdown",
      "metadata": {
        "id": "KjkV8PEVJZ7s",
        "colab_type": "text"
      },
      "source": [
        "# Underfitting Model"
      ]
    },
    {
      "cell_type": "markdown",
      "metadata": {
        "colab_type": "text",
        "id": "xZ3OhrhfJ13z"
      },
      "source": [
        "## Build the model"
      ]
    },
    {
      "cell_type": "markdown",
      "metadata": {
        "id": "TN-rhqYjW7lW",
        "colab_type": "text"
      },
      "source": [
        "Note: This Neural Network is greatly exaggerated to get an underfitting model."
      ]
    },
    {
      "cell_type": "code",
      "metadata": {
        "colab_type": "code",
        "outputId": "83cd3f50-cf3d-4a7a-8996-64f6f48f0512",
        "id": "avQIR6_2J138",
        "colab": {
          "base_uri": "https://localhost:8080/",
          "height": 785
        }
      },
      "source": [
        "# set up the layers\n",
        "\n",
        "model = keras.Sequential([\n",
        "    keras.layers.Flatten(input_shape=(28, 28)),\n",
        "    keras.layers.Dense(5, activation='sigmoid'),\n",
        "    keras.layers.Dense(10, activation=tf.nn.softmax)\n",
        "])\n",
        "\n",
        "# compile the model\n",
        "\n",
        "model.compile(optimizer='adam',\n",
        "             loss='sparse_categorical_crossentropy',\n",
        "             metrics=['accuracy'])\n",
        "\n",
        "# train the model\n",
        "epochs = 20\n",
        "history = model.fit(train_images, \n",
        "                      train_labels, \n",
        "                      epochs=epochs,  \n",
        "                      validation_data=(test_images, test_labels))"
      ],
      "execution_count": 0,
      "outputs": [
        {
          "output_type": "stream",
          "text": [
            "WARNING:tensorflow:From /usr/local/lib/python3.6/dist-packages/tensorflow_core/python/ops/resource_variable_ops.py:1630: calling BaseResourceVariable.__init__ (from tensorflow.python.ops.resource_variable_ops) with constraint is deprecated and will be removed in a future version.\n",
            "Instructions for updating:\n",
            "If using Keras pass *_constraint arguments to layers.\n",
            "Train on 60000 samples, validate on 10000 samples\n",
            "Epoch 1/20\n",
            "60000/60000 [==============================] - 3s 56us/sample - loss: 1.3728 - acc: 0.6526 - val_loss: 0.9755 - val_acc: 0.7311\n",
            "Epoch 2/20\n",
            "60000/60000 [==============================] - 3s 50us/sample - loss: 0.8192 - acc: 0.7671 - val_loss: 0.7365 - val_acc: 0.7834\n",
            "Epoch 3/20\n",
            "60000/60000 [==============================] - 3s 49us/sample - loss: 0.6535 - acc: 0.8069 - val_loss: 0.6322 - val_acc: 0.8067\n",
            "Epoch 4/20\n",
            "60000/60000 [==============================] - 3s 49us/sample - loss: 0.5772 - acc: 0.8205 - val_loss: 0.5872 - val_acc: 0.8119\n",
            "Epoch 5/20\n",
            "60000/60000 [==============================] - 3s 48us/sample - loss: 0.5378 - acc: 0.8284 - val_loss: 0.5570 - val_acc: 0.8208\n",
            "Epoch 6/20\n",
            "60000/60000 [==============================] - 3s 48us/sample - loss: 0.5131 - acc: 0.8334 - val_loss: 0.5427 - val_acc: 0.8215\n",
            "Epoch 7/20\n",
            "60000/60000 [==============================] - 3s 48us/sample - loss: 0.4977 - acc: 0.8374 - val_loss: 0.5331 - val_acc: 0.8239\n",
            "Epoch 8/20\n",
            "60000/60000 [==============================] - 3s 47us/sample - loss: 0.4864 - acc: 0.8403 - val_loss: 0.5233 - val_acc: 0.8235\n",
            "Epoch 9/20\n",
            "60000/60000 [==============================] - 3s 47us/sample - loss: 0.4783 - acc: 0.8422 - val_loss: 0.5224 - val_acc: 0.8267\n",
            "Epoch 10/20\n",
            "60000/60000 [==============================] - 3s 48us/sample - loss: 0.4723 - acc: 0.8422 - val_loss: 0.5260 - val_acc: 0.8250\n",
            "Epoch 11/20\n",
            "60000/60000 [==============================] - 3s 48us/sample - loss: 0.4666 - acc: 0.8452 - val_loss: 0.5112 - val_acc: 0.8292\n",
            "Epoch 12/20\n",
            "60000/60000 [==============================] - 3s 47us/sample - loss: 0.4613 - acc: 0.8463 - val_loss: 0.5120 - val_acc: 0.8236\n",
            "Epoch 13/20\n",
            "60000/60000 [==============================] - 3s 48us/sample - loss: 0.4583 - acc: 0.8471 - val_loss: 0.5077 - val_acc: 0.8271\n",
            "Epoch 14/20\n",
            "60000/60000 [==============================] - 3s 48us/sample - loss: 0.4545 - acc: 0.8476 - val_loss: 0.5087 - val_acc: 0.8277\n",
            "Epoch 15/20\n",
            "60000/60000 [==============================] - 3s 48us/sample - loss: 0.4515 - acc: 0.8488 - val_loss: 0.5158 - val_acc: 0.8241\n",
            "Epoch 16/20\n",
            "60000/60000 [==============================] - 3s 49us/sample - loss: 0.4493 - acc: 0.8502 - val_loss: 0.5046 - val_acc: 0.8300\n",
            "Epoch 17/20\n",
            "60000/60000 [==============================] - 3s 48us/sample - loss: 0.4472 - acc: 0.8501 - val_loss: 0.5029 - val_acc: 0.8276\n",
            "Epoch 18/20\n",
            "60000/60000 [==============================] - 3s 49us/sample - loss: 0.4445 - acc: 0.8502 - val_loss: 0.5054 - val_acc: 0.8302\n",
            "Epoch 19/20\n",
            "60000/60000 [==============================] - 3s 48us/sample - loss: 0.4423 - acc: 0.8502 - val_loss: 0.4987 - val_acc: 0.8317\n",
            "Epoch 20/20\n",
            "60000/60000 [==============================] - 3s 48us/sample - loss: 0.4413 - acc: 0.8507 - val_loss: 0.5118 - val_acc: 0.8253\n"
          ],
          "name": "stdout"
        }
      ]
    },
    {
      "cell_type": "markdown",
      "metadata": {
        "colab_type": "text",
        "id": "_vtjpSQsJ9gp"
      },
      "source": [
        "## Evaluate accuracy"
      ]
    },
    {
      "cell_type": "code",
      "metadata": {
        "colab_type": "code",
        "id": "g6YOvLPfJ9g3",
        "outputId": "bd85a1c6-3454-41fd-f27b-9d98db5a489e",
        "colab": {
          "base_uri": "https://localhost:8080/",
          "height": 51
        }
      },
      "source": [
        "test_loss, test_acc = model.evaluate(test_images, test_labels)\n",
        "\n",
        "print('Test accuracy:', test_acc)"
      ],
      "execution_count": 0,
      "outputs": [
        {
          "output_type": "stream",
          "text": [
            "10000/10000 [==============================] - 0s 24us/sample - loss: 0.5118 - acc: 0.8253\n",
            "Test accuracy: 0.8253\n"
          ],
          "name": "stdout"
        }
      ]
    },
    {
      "cell_type": "markdown",
      "metadata": {
        "colab_type": "text",
        "id": "t8PD0mXVKD9a"
      },
      "source": [
        "## Training/test loss/accuracy during training"
      ]
    },
    {
      "cell_type": "code",
      "metadata": {
        "colab_type": "code",
        "id": "2D1_VBpbKD9j",
        "colab": {}
      },
      "source": [
        "history_dict = history.history\n",
        "loss_values = history_dict['loss']\n",
        "test_loss_values = history_dict['val_loss']\n",
        "epochs_range = range(1, epochs+1)"
      ],
      "execution_count": 0,
      "outputs": []
    },
    {
      "cell_type": "code",
      "metadata": {
        "colab_type": "code",
        "id": "lP6c_JuoKD9w",
        "outputId": "aa7449fe-1a97-4f25-e0b0-f8c3456d73fb",
        "colab": {
          "base_uri": "https://localhost:8080/",
          "height": 295
        }
      },
      "source": [
        "plt.plot(epochs_range, loss_values, 'bo', label='Training loss')\n",
        "plt.plot(epochs_range, test_loss_values, 'ro', label='Test loss')\n",
        "plt.title('Training and test loss')\n",
        "plt.xlabel('Epochs')\n",
        "plt.ylabel('Loss')\n",
        "plt.legend()\n",
        "plt.show()"
      ],
      "execution_count": 0,
      "outputs": [
        {
          "output_type": "display_data",
          "data": {
            "image/png": "[encoded data removed]",
            "text/plain": [
              "<Figure size 432x288 with 1 Axes>"
            ]
          },
          "metadata": {
            "tags": []
          }
        }
      ]
    },
    {
      "cell_type": "code",
      "metadata": {
        "colab_type": "code",
        "id": "PXc7iF1ZKD96",
        "colab": {}
      },
      "source": [
        "acc_values = history_dict['acc']\n",
        "test_acc_values = history_dict['val_acc']"
      ],
      "execution_count": 0,
      "outputs": []
    },
    {
      "cell_type": "code",
      "metadata": {
        "colab_type": "code",
        "id": "h3xVauglKD-D",
        "outputId": "80383c32-e415-4597-e272-5d553719128d",
        "colab": {
          "base_uri": "https://localhost:8080/",
          "height": 295
        }
      },
      "source": [
        "plt.plot(epochs_range, acc_values, 'bo', label='Training accuracy')\n",
        "plt.plot(epochs_range, test_acc_values, 'ro', label='Test accuracy')\n",
        "plt.title('Training and test accuracy')\n",
        "plt.xlabel('Epochs')\n",
        "plt.ylabel('Accuracy')\n",
        "plt.legend()\n",
        "plt.show()"
      ],
      "execution_count": 0,
      "outputs": [
        {
          "output_type": "display_data",
          "data": {
            "image/png": "[encoded data removed]",
            "text/plain": [
              "<Figure size 432x288 with 1 Axes>"
            ]
          },
          "metadata": {
            "tags": []
          }
        }
      ]
    },
    {
      "cell_type": "markdown",
      "metadata": {
        "id": "n_Pz9J2JYC-u",
        "colab_type": "text"
      },
      "source": [
        "The model did learn, however it underperforms compared to the other models provided in this notebook."
      ]
    },
    {
      "cell_type": "markdown",
      "metadata": {
        "id": "eV9qQE3mIuKx",
        "colab_type": "text"
      },
      "source": [
        "# Overfitting Model"
      ]
    },
    {
      "cell_type": "markdown",
      "metadata": {
        "id": "OA975wHjOJI-",
        "colab_type": "text"
      },
      "source": [
        "## Build the model"
      ]
    },
    {
      "cell_type": "markdown",
      "metadata": {
        "id": "nNazMpHVHWNS",
        "colab_type": "text"
      },
      "source": [
        "Note: This model is also exaggerated such as to get a model that clearly overfits to the training dataset."
      ]
    },
    {
      "cell_type": "code",
      "metadata": {
        "id": "ZX6SGTpMOIKN",
        "colab_type": "code",
        "outputId": "bb7cfe6b-ace2-491d-8d3c-0d1ea6d54aea",
        "colab": {
          "base_uri": "https://localhost:8080/",
          "height": 714
        }
      },
      "source": [
        "# set up the layers\n",
        "\n",
        "model = keras.Sequential([\n",
        "    keras.layers.Flatten(input_shape=(28, 28)),\n",
        "    keras.layers.Dense(2048, activation=tf.nn.relu),\n",
        "    keras.layers.Dense(2048, activation=tf.nn.relu),\n",
        "    keras.layers.Dense(10, activation=tf.nn.softmax)\n",
        "])\n",
        "\n",
        "# compile the model\n",
        "\n",
        "model.compile(optimizer='adam',\n",
        "             loss='sparse_categorical_crossentropy',\n",
        "             metrics=['accuracy'])\n",
        "\n",
        "# train the model\n",
        "epochs = 20\n",
        "history = model.fit(train_images, \n",
        "                      train_labels, \n",
        "                      epochs=epochs,  \n",
        "                      validation_data=(test_images, test_labels))"
      ],
      "execution_count": 0,
      "outputs": [
        {
          "output_type": "stream",
          "text": [
            "Train on 60000 samples, validate on 10000 samples\n",
            "Epoch 1/20\n",
            "60000/60000 [==============================] - 112s 2ms/sample - loss: 0.4743 - acc: 0.8276 - val_loss: 0.4072 - val_acc: 0.8494\n",
            "Epoch 2/20\n",
            "60000/60000 [==============================] - 112s 2ms/sample - loss: 0.3621 - acc: 0.8659 - val_loss: 0.3747 - val_acc: 0.8582\n",
            "Epoch 3/20\n",
            "60000/60000 [==============================] - 112s 2ms/sample - loss: 0.3235 - acc: 0.8809 - val_loss: 0.3710 - val_acc: 0.8688\n",
            "Epoch 4/20\n",
            "60000/60000 [==============================] - 113s 2ms/sample - loss: 0.2986 - acc: 0.8886 - val_loss: 0.3412 - val_acc: 0.8757\n",
            "Epoch 5/20\n",
            "60000/60000 [==============================] - 114s 2ms/sample - loss: 0.2836 - acc: 0.8928 - val_loss: 0.3488 - val_acc: 0.8742\n",
            "Epoch 6/20\n",
            "60000/60000 [==============================] - 114s 2ms/sample - loss: 0.2637 - acc: 0.9010 - val_loss: 0.3516 - val_acc: 0.8773\n",
            "Epoch 7/20\n",
            "60000/60000 [==============================] - 114s 2ms/sample - loss: 0.2527 - acc: 0.9042 - val_loss: 0.3497 - val_acc: 0.8787\n",
            "Epoch 8/20\n",
            "60000/60000 [==============================] - 112s 2ms/sample - loss: 0.2407 - acc: 0.9092 - val_loss: 0.3541 - val_acc: 0.8762\n",
            "Epoch 9/20\n",
            "60000/60000 [==============================] - 111s 2ms/sample - loss: 0.2310 - acc: 0.9135 - val_loss: 0.3670 - val_acc: 0.8806\n",
            "Epoch 10/20\n",
            "60000/60000 [==============================] - 112s 2ms/sample - loss: 0.2243 - acc: 0.9150 - val_loss: 0.3347 - val_acc: 0.8898\n",
            "Epoch 11/20\n",
            "60000/60000 [==============================] - 111s 2ms/sample - loss: 0.2113 - acc: 0.9189 - val_loss: 0.3591 - val_acc: 0.8860\n",
            "Epoch 12/20\n",
            "60000/60000 [==============================] - 111s 2ms/sample - loss: 0.2079 - acc: 0.9208 - val_loss: 0.3647 - val_acc: 0.8881\n",
            "Epoch 13/20\n",
            "60000/60000 [==============================] - 111s 2ms/sample - loss: 0.1982 - acc: 0.9243 - val_loss: 0.3666 - val_acc: 0.8936\n",
            "Epoch 14/20\n",
            "60000/60000 [==============================] - 112s 2ms/sample - loss: 0.1907 - acc: 0.9273 - val_loss: 0.4066 - val_acc: 0.8805\n",
            "Epoch 15/20\n",
            "60000/60000 [==============================] - 114s 2ms/sample - loss: 0.1859 - acc: 0.9284 - val_loss: 0.3762 - val_acc: 0.8906\n",
            "Epoch 16/20\n",
            "60000/60000 [==============================] - 114s 2ms/sample - loss: 0.1787 - acc: 0.9316 - val_loss: 0.4112 - val_acc: 0.8843\n",
            "Epoch 17/20\n",
            "60000/60000 [==============================] - 111s 2ms/sample - loss: 0.1775 - acc: 0.9323 - val_loss: 0.3726 - val_acc: 0.8927\n",
            "Epoch 18/20\n",
            "60000/60000 [==============================] - 112s 2ms/sample - loss: 0.1673 - acc: 0.9354 - val_loss: 0.4188 - val_acc: 0.8859\n",
            "Epoch 19/20\n",
            "60000/60000 [==============================] - 112s 2ms/sample - loss: 0.1651 - acc: 0.9375 - val_loss: 0.4200 - val_acc: 0.8930\n",
            "Epoch 20/20\n",
            "60000/60000 [==============================] - 111s 2ms/sample - loss: 0.1629 - acc: 0.9381 - val_loss: 0.4207 - val_acc: 0.8877\n"
          ],
          "name": "stdout"
        }
      ]
    },
    {
      "cell_type": "markdown",
      "metadata": {
        "id": "mORb9IwPP7oE",
        "colab_type": "text"
      },
      "source": [
        "## Evaluate accuracy"
      ]
    },
    {
      "cell_type": "code",
      "metadata": {
        "id": "rlKIF6ijOkiE",
        "colab_type": "code",
        "outputId": "54030a9c-bb47-45e5-998e-1cd309993fba",
        "colab": {
          "base_uri": "https://localhost:8080/",
          "height": 51
        }
      },
      "source": [
        "test_loss, test_acc = model.evaluate(test_images, test_labels)\n",
        "\n",
        "print('Test accuracy:', test_acc)"
      ],
      "execution_count": 0,
      "outputs": [
        {
          "output_type": "stream",
          "text": [
            "10000/10000 [==============================] - 4s 411us/sample - loss: 0.4207 - acc: 0.8877\n",
            "Test accuracy: 0.8877\n"
          ],
          "name": "stdout"
        }
      ]
    },
    {
      "cell_type": "markdown",
      "metadata": {
        "id": "GqbGdV6oXEyP",
        "colab_type": "text"
      },
      "source": [
        "## Training/test loss/accuracy during training"
      ]
    },
    {
      "cell_type": "code",
      "metadata": {
        "id": "3b5OCE5YTrEc",
        "colab_type": "code",
        "colab": {}
      },
      "source": [
        "history_dict = history.history\n",
        "loss_values = history_dict['loss']\n",
        "test_loss_values = history_dict['val_loss']\n",
        "epochs_range = range(1, epochs+1)"
      ],
      "execution_count": 0,
      "outputs": []
    },
    {
      "cell_type": "code",
      "metadata": {
        "id": "y98AOblYT3Pk",
        "colab_type": "code",
        "outputId": "cc09937c-1464-4649-f47b-8912a1d1cbe5",
        "colab": {
          "base_uri": "https://localhost:8080/",
          "height": 295
        }
      },
      "source": [
        "plt.plot(epochs_range, loss_values, 'bo', label='Training loss')\n",
        "plt.plot(epochs_range, test_loss_values, 'ro', label='Test loss')\n",
        "plt.title('Training and test loss')\n",
        "plt.xlabel('Epochs')\n",
        "plt.ylabel('Loss')\n",
        "plt.legend()\n",
        "plt.show()"
      ],
      "execution_count": 0,
      "outputs": [
        {
          "output_type": "display_data",
          "data": {
            "image/png": "[encoded data removed]",
            "text/plain": [
              "<Figure size 432x288 with 1 Axes>"
            ]
          },
          "metadata": {
            "tags": []
          }
        }
      ]
    },
    {
      "cell_type": "code",
      "metadata": {
        "id": "790AkDaTWuZU",
        "colab_type": "code",
        "colab": {}
      },
      "source": [
        "acc_values = history_dict['acc']\n",
        "test_acc_values = history_dict['val_acc']"
      ],
      "execution_count": 0,
      "outputs": []
    },
    {
      "cell_type": "code",
      "metadata": {
        "id": "7BkIfPQ4W39E",
        "colab_type": "code",
        "outputId": "9742db50-f9e7-483b-dc38-848ab510e505",
        "colab": {
          "base_uri": "https://localhost:8080/",
          "height": 295
        }
      },
      "source": [
        "plt.plot(epochs_range, acc_values, 'bo', label='Training accuracy')\n",
        "plt.plot(epochs_range, test_acc_values, 'ro', label='Test accuracy')\n",
        "plt.title('Training and test accuracy')\n",
        "plt.xlabel('Epochs')\n",
        "plt.ylabel('Accuracy')\n",
        "plt.legend()\n",
        "plt.show()"
      ],
      "execution_count": 0,
      "outputs": [
        {
          "output_type": "display_data",
          "data": {
            "image/png": "[encoded data removed]",
            "text/plain": [
              "<Figure size 432x288 with 1 Axes>"
            ]
          },
          "metadata": {
            "tags": []
          }
        }
      ]
    },
    {
      "cell_type": "markdown",
      "metadata": {
        "id": "27JQFJwXYnN6",
        "colab_type": "text"
      },
      "source": [
        "As can be seen from the above graphs, the network performed very well on the training dataset, however it started to overfit which can be seen by the large gap between the training and testing scores.\n",
        "\n",
        "Note how the training accuracy score appears to still be rising while the test accuracy has appeared to flatline."
      ]
    },
    {
      "cell_type": "markdown",
      "metadata": {
        "colab_type": "text",
        "id": "5tlU0q95MpbE"
      },
      "source": [
        "# Decent Model"
      ]
    },
    {
      "cell_type": "markdown",
      "metadata": {
        "colab_type": "text",
        "id": "AzoftbmgMpbO"
      },
      "source": [
        "## Build the model"
      ]
    },
    {
      "cell_type": "code",
      "metadata": {
        "colab_type": "code",
        "outputId": "b8f6eaf9-a82b-4fbd-913f-b418472eee41",
        "id": "GXCW8At5MpbU",
        "colab": {
          "base_uri": "https://localhost:8080/",
          "height": 714
        }
      },
      "source": [
        "# set up the layers\n",
        "\n",
        "model = keras.Sequential([\n",
        "    keras.layers.Flatten(input_shape=(28, 28)),\n",
        "    keras.layers.Dense(256, activation=tf.nn.relu),\n",
        "    keras.layers.Dropout(0.25),\n",
        "    keras.layers.Dense(256, activation=tf.nn.relu),\n",
        "    keras.layers.Dropout(0.25),\n",
        "    keras.layers.Dense(10, activation=tf.nn.softmax)\n",
        "])\n",
        "\n",
        "# compile the model\n",
        "\n",
        "model.compile(optimizer='adam',\n",
        "             loss='sparse_categorical_crossentropy',\n",
        "             metrics=['accuracy'])\n",
        "\n",
        "# train the model\n",
        "epochs = 20\n",
        "history = model.fit(train_images, \n",
        "                      train_labels, \n",
        "                      epochs=epochs,  \n",
        "                      validation_data=(test_images, test_labels))"
      ],
      "execution_count": 0,
      "outputs": [
        {
          "output_type": "stream",
          "text": [
            "Train on 60000 samples, validate on 10000 samples\n",
            "Epoch 1/20\n",
            "60000/60000 [==============================] - 11s 180us/sample - loss: 0.5434 - acc: 0.8030 - val_loss: 0.4185 - val_acc: 0.8480\n",
            "Epoch 2/20\n",
            "60000/60000 [==============================] - 11s 178us/sample - loss: 0.4137 - acc: 0.8486 - val_loss: 0.3808 - val_acc: 0.8633\n",
            "Epoch 3/20\n",
            "60000/60000 [==============================] - 10s 173us/sample - loss: 0.3799 - acc: 0.8615 - val_loss: 0.3914 - val_acc: 0.8585\n",
            "Epoch 4/20\n",
            "60000/60000 [==============================] - 10s 167us/sample - loss: 0.3615 - acc: 0.8666 - val_loss: 0.3495 - val_acc: 0.8730\n",
            "Epoch 5/20\n",
            "60000/60000 [==============================] - 10s 171us/sample - loss: 0.3435 - acc: 0.8724 - val_loss: 0.3673 - val_acc: 0.8703\n",
            "Epoch 6/20\n",
            "60000/60000 [==============================] - 10s 170us/sample - loss: 0.3350 - acc: 0.8756 - val_loss: 0.3446 - val_acc: 0.8723\n",
            "Epoch 7/20\n",
            "60000/60000 [==============================] - 10s 172us/sample - loss: 0.3254 - acc: 0.8793 - val_loss: 0.3431 - val_acc: 0.8721\n",
            "Epoch 8/20\n",
            "60000/60000 [==============================] - 10s 168us/sample - loss: 0.3130 - acc: 0.8830 - val_loss: 0.3387 - val_acc: 0.8743\n",
            "Epoch 9/20\n",
            "60000/60000 [==============================] - 10s 168us/sample - loss: 0.3056 - acc: 0.8873 - val_loss: 0.3349 - val_acc: 0.8785\n",
            "Epoch 10/20\n",
            "60000/60000 [==============================] - 10s 169us/sample - loss: 0.3001 - acc: 0.8884 - val_loss: 0.3393 - val_acc: 0.8770\n",
            "Epoch 11/20\n",
            "60000/60000 [==============================] - 10s 170us/sample - loss: 0.2960 - acc: 0.8907 - val_loss: 0.3268 - val_acc: 0.8842\n",
            "Epoch 12/20\n",
            "60000/60000 [==============================] - 10s 174us/sample - loss: 0.2889 - acc: 0.8928 - val_loss: 0.3335 - val_acc: 0.8787\n",
            "Epoch 13/20\n",
            "60000/60000 [==============================] - 10s 167us/sample - loss: 0.2844 - acc: 0.8936 - val_loss: 0.3251 - val_acc: 0.8813\n",
            "Epoch 14/20\n",
            "60000/60000 [==============================] - 10s 168us/sample - loss: 0.2805 - acc: 0.8963 - val_loss: 0.3291 - val_acc: 0.8845\n",
            "Epoch 15/20\n",
            "60000/60000 [==============================] - 10s 167us/sample - loss: 0.2761 - acc: 0.8966 - val_loss: 0.3215 - val_acc: 0.8849\n",
            "Epoch 16/20\n",
            "60000/60000 [==============================] - 10s 167us/sample - loss: 0.2734 - acc: 0.8982 - val_loss: 0.3239 - val_acc: 0.8792\n",
            "Epoch 17/20\n",
            "60000/60000 [==============================] - 10s 165us/sample - loss: 0.2675 - acc: 0.8999 - val_loss: 0.3216 - val_acc: 0.8832\n",
            "Epoch 18/20\n",
            "60000/60000 [==============================] - 10s 165us/sample - loss: 0.2680 - acc: 0.9004 - val_loss: 0.3250 - val_acc: 0.8848\n",
            "Epoch 19/20\n",
            "60000/60000 [==============================] - 10s 167us/sample - loss: 0.2649 - acc: 0.9026 - val_loss: 0.3165 - val_acc: 0.8863\n",
            "Epoch 20/20\n",
            "60000/60000 [==============================] - 10s 165us/sample - loss: 0.2592 - acc: 0.9034 - val_loss: 0.3188 - val_acc: 0.8901\n"
          ],
          "name": "stdout"
        }
      ]
    },
    {
      "cell_type": "markdown",
      "metadata": {
        "colab_type": "text",
        "id": "1v8Cei2PMpbi"
      },
      "source": [
        "## Evaluate accuracy"
      ]
    },
    {
      "cell_type": "code",
      "metadata": {
        "colab_type": "code",
        "id": "CH9j0t6oMpbl",
        "outputId": "c7ba95a1-e694-405d-f735-60ea1473e6bb",
        "colab": {
          "base_uri": "https://localhost:8080/",
          "height": 51
        }
      },
      "source": [
        "test_loss, test_acc = model.evaluate(test_images, test_labels)\n",
        "\n",
        "print('Test accuracy:', test_acc)"
      ],
      "execution_count": 0,
      "outputs": [
        {
          "output_type": "stream",
          "text": [
            "10000/10000 [==============================] - 1s 60us/sample - loss: 0.3188 - acc: 0.8901\n",
            "Test accuracy: 0.8901\n"
          ],
          "name": "stdout"
        }
      ]
    },
    {
      "cell_type": "markdown",
      "metadata": {
        "colab_type": "text",
        "id": "mlQhhYlUMpbz"
      },
      "source": [
        "## Training/test loss/accuracy during training"
      ]
    },
    {
      "cell_type": "code",
      "metadata": {
        "colab_type": "code",
        "id": "het24i34Mpb0",
        "colab": {}
      },
      "source": [
        "history_dict = history.history\n",
        "loss_values = history_dict['loss']\n",
        "test_loss_values = history_dict['val_loss']\n",
        "epochs_range = range(1, epochs+1)"
      ],
      "execution_count": 0,
      "outputs": []
    },
    {
      "cell_type": "code",
      "metadata": {
        "colab_type": "code",
        "id": "Og6b-STpMpb8",
        "outputId": "3da7cf46-f8c0-43f2-df60-4161f9e8894e",
        "colab": {
          "base_uri": "https://localhost:8080/",
          "height": 295
        }
      },
      "source": [
        "plt.plot(epochs_range, loss_values, 'bo', label='Training loss')\n",
        "plt.plot(epochs_range, test_loss_values, 'ro', label='Test loss')\n",
        "plt.title('Training and test loss')\n",
        "plt.xlabel('Epochs')\n",
        "plt.ylabel('Loss')\n",
        "plt.legend()\n",
        "plt.show()"
      ],
      "execution_count": 0,
      "outputs": [
        {
          "output_type": "display_data",
          "data": {
            "image/png": "[encoded data removed]",
            "text/plain": [
              "<Figure size 432x288 with 1 Axes>"
            ]
          },
          "metadata": {
            "tags": []
          }
        }
      ]
    },
    {
      "cell_type": "code",
      "metadata": {
        "colab_type": "code",
        "id": "3WAIleIjMpcC",
        "colab": {}
      },
      "source": [
        "acc_values = history_dict['acc']\n",
        "test_acc_values = history_dict['val_acc']"
      ],
      "execution_count": 0,
      "outputs": []
    },
    {
      "cell_type": "code",
      "metadata": {
        "colab_type": "code",
        "id": "INnaIHfOMpcI",
        "outputId": "6601dc68-37b4-4f0a-f33b-43bb6607b4c4",
        "colab": {
          "base_uri": "https://localhost:8080/",
          "height": 295
        }
      },
      "source": [
        "plt.plot(epochs_range, acc_values, 'bo', label='Training accuracy')\n",
        "plt.plot(epochs_range, test_acc_values, 'ro', label='Test accuracy')\n",
        "plt.title('Training and test accuracy')\n",
        "plt.xlabel('Epochs')\n",
        "plt.ylabel('Accuracy')\n",
        "plt.legend()\n",
        "plt.show()"
      ],
      "execution_count": 0,
      "outputs": [
        {
          "output_type": "display_data",
          "data": {
            "image/png": "[encoded data removed]",
            "text/plain": [
              "<Figure size 432x288 with 1 Axes>"
            ]
          },
          "metadata": {
            "tags": []
          }
        }
      ]
    },
    {
      "cell_type": "markdown",
      "metadata": {
        "id": "bLphYrM6aeCH",
        "colab_type": "text"
      },
      "source": [
        "The difference in testing performance scores between this and the overfitting model may be small, however the smaller gap between training and testing scores in this model indicates less overfitting is occurring.\n",
        "\n",
        "Reducing the number of neurons per layer as well as adding Dropout between each layer fought overfitting on the training dataset. There is much less of a gap between the training and testing scores compared to the overfitting model.\n",
        "\n",
        "This network could do even better by using a Convolutional Neural Network as opposed to strictly just Dense and Dropout layers."
      ]
    }
  ]
}